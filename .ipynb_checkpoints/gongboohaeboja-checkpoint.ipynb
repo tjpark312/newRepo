{
 "cells": [
  {
   "cell_type": "code",
   "execution_count": 2,
   "id": "d324ee3f-bc4a-451c-a8a0-ff6d7859907d",
   "metadata": {},
   "outputs": [],
   "source": [
    "#Sorting and introduction to the inplace - parameter\n",
    "# 6월 1일 "
   ]
  },
  {
   "cell_type": "code",
   "execution_count": 4,
   "id": "2346d250-2c55-4966-beb5-476a8bea9f67",
   "metadata": {},
   "outputs": [],
   "source": [
    "import pandas as pd "
   ]
  },
  {
   "cell_type": "code",
   "execution_count": 6,
   "id": "3e8418c5-0c38-486f-8067-17a60a357069",
   "metadata": {},
   "outputs": [],
   "source": [
    "dic = {1 : 10, 3 : 25, 2 : 15, 4:5, 5: 20, 6 : 0, 7 : None}\n",
    "\n",
    "# 월요일에는 10개 화요일에는 15개 수요일에는 25개가 판매되었다는 딕셔너리 주간 판매량 토요일과 일요일은 판매가 없으므로 "
   ]
  },
  {
   "cell_type": "code",
   "execution_count": 8,
   "id": "f39eab47-719f-46be-a323-3fcca8e5b8f7",
   "metadata": {},
   "outputs": [
    {
     "data": {
      "text/plain": [
       "{1: 10, 3: 25, 2: 15, 4: 5, 5: 20, 6: 0, 7: None}"
      ]
     },
     "execution_count": 8,
     "metadata": {},
     "output_type": "execute_result"
    }
   ],
   "source": [
    "dic"
   ]
  },
  {
   "cell_type": "code",
   "execution_count": 10,
   "id": "84c7975e-dcd1-4f25-93e5-1a46a9909fd7",
   "metadata": {},
   "outputs": [],
   "source": [
    "sales = pd.Series(dic)"
   ]
  },
  {
   "cell_type": "code",
   "execution_count": 12,
   "id": "d1b70ebb-f950-4c05-a19c-846fa47f57ba",
   "metadata": {},
   "outputs": [
    {
     "data": {
      "text/plain": [
       "1    10.0\n",
       "3    25.0\n",
       "2    15.0\n",
       "4     5.0\n",
       "5    20.0\n",
       "6     0.0\n",
       "7     NaN\n",
       "dtype: float64"
      ]
     },
     "execution_count": 12,
     "metadata": {},
     "output_type": "execute_result"
    }
   ],
   "source": [
    "sales"
   ]
  },
  {
   "cell_type": "code",
   "execution_count": 14,
   "id": "6dcc5c7e-86c9-48ab-b88a-53dda4509e24",
   "metadata": {},
   "outputs": [
    {
     "data": {
      "text/plain": [
       "1    10.0\n",
       "2    15.0\n",
       "3    25.0\n",
       "4     5.0\n",
       "5    20.0\n",
       "6     0.0\n",
       "7     NaN\n",
       "dtype: float64"
      ]
     },
     "execution_count": 14,
     "metadata": {},
     "output_type": "execute_result"
    }
   ],
   "source": [
    "sales.sort_index()"
   ]
  },
  {
   "cell_type": "code",
   "execution_count": 22,
   "id": "eaa900d7-4cfa-4e47-8187-84c834f0f624",
   "metadata": {},
   "outputs": [
    {
     "data": {
      "text/plain": [
       "1    10.0\n",
       "2    15.0\n",
       "3    25.0\n",
       "4     5.0\n",
       "5    20.0\n",
       "6     0.0\n",
       "7     NaN\n",
       "dtype: float64"
      ]
     },
     "execution_count": 22,
     "metadata": {},
     "output_type": "execute_result"
    }
   ],
   "source": [
    "sales.sort_index(ascending= True ) # ascending 으로 True, False로 오름차순, 내림차순 설정 가능  \n",
    "# 복사본을 만들어서 복사본만을 정렬한 것임 inplace: 'bool' = False 이기 때문에 "
   ]
  },
  {
   "cell_type": "code",
   "execution_count": 20,
   "id": "221e0e66-4b69-46ee-bd63-d92edc8928d1",
   "metadata": {},
   "outputs": [
    {
     "data": {
      "text/plain": [
       "1    10.0\n",
       "3    25.0\n",
       "2    15.0\n",
       "4     5.0\n",
       "5    20.0\n",
       "6     0.0\n",
       "7     NaN\n",
       "dtype: float64"
      ]
     },
     "execution_count": 20,
     "metadata": {},
     "output_type": "execute_result"
    }
   ],
   "source": [
    "sales # 인덱스가 그대로임 , 정렬된 인덱스가 메모리에 저장되지 않는 다는 뜻 "
   ]
  },
  {
   "cell_type": "code",
   "execution_count": 26,
   "id": "41060534-5416-4883-85d5-a6d495b20ebe",
   "metadata": {},
   "outputs": [],
   "source": [
    " sales.sort_index(ascending=True, inplace=True) # inplace 를 True로 하면 원래값을 대신하게 됨"
   ]
  },
  {
   "cell_type": "code",
   "execution_count": 28,
   "id": "d586a75a-aa8e-4f38-96ec-ff0e033d85bc",
   "metadata": {},
   "outputs": [
    {
     "data": {
      "text/plain": [
       "1    10.0\n",
       "2    15.0\n",
       "3    25.0\n",
       "4     5.0\n",
       "5    20.0\n",
       "6     0.0\n",
       "7     NaN\n",
       "dtype: float64"
      ]
     },
     "execution_count": 28,
     "metadata": {},
     "output_type": "execute_result"
    }
   ],
   "source": [
    "sales"
   ]
  },
  {
   "cell_type": "code",
   "execution_count": 42,
   "id": "e38301c6-8d18-42ec-8210-5eb831976915",
   "metadata": {},
   "outputs": [
    {
     "data": {
      "text/plain": [
       "7     NaN\n",
       "3    25.0\n",
       "5    20.0\n",
       "2    15.0\n",
       "1    10.0\n",
       "4     5.0\n",
       "6     0.0\n",
       "dtype: float64"
      ]
     },
     "execution_count": 42,
     "metadata": {},
     "output_type": "execute_result"
    }
   ],
   "source": [
    "sales.sort_values(inplace=True, ascending=False, na_position=\"first\") # 결측값 맨처음 or 맨끝 설정 가능 \n",
    "sales"
   ]
  },
  {
   "cell_type": "code",
   "execution_count": 44,
   "id": "c37bde55-10da-42e3-984d-8396e64230b5",
   "metadata": {},
   "outputs": [],
   "source": [
    "dic = {\"Mon\" : 25, \"Tue\" : 10, \"Wed\" : 30, \"Thu\" : 40, \"Fri\" : 50, \"Sat\" : 0, \"Sun\" : 0}"
   ]
  },
  {
   "cell_type": "code",
   "execution_count": 46,
   "id": "155bca4b-777d-4997-94e2-4cb7a1949ec8",
   "metadata": {},
   "outputs": [
    {
     "data": {
      "text/plain": [
       "{'Mon': 25, 'Tue': 10, 'Wed': 30, 'Thu': 40, 'Fri': 50, 'Sat': 0, 'Sun': 0}"
      ]
     },
     "execution_count": 46,
     "metadata": {},
     "output_type": "execute_result"
    }
   ],
   "source": [
    "dic"
   ]
  },
  {
   "cell_type": "code",
   "execution_count": 48,
   "id": "b348c335-2d00-46dc-b5b8-a2ba7417201f",
   "metadata": {},
   "outputs": [],
   "source": [
    "sales = pd.Series(dic)"
   ]
  },
  {
   "cell_type": "code",
   "execution_count": 50,
   "id": "7998a45e-73c8-41af-9a7b-6bc146d55b4e",
   "metadata": {},
   "outputs": [
    {
     "data": {
      "text/plain": [
       "Mon    25\n",
       "Tue    10\n",
       "Wed    30\n",
       "Thu    40\n",
       "Fri    50\n",
       "Sat     0\n",
       "Sun     0\n",
       "dtype: int64"
      ]
     },
     "execution_count": 50,
     "metadata": {},
     "output_type": "execute_result"
    }
   ],
   "source": [
    "sales"
   ]
  },
  {
   "cell_type": "code",
   "execution_count": 54,
   "id": "07cb444c-32e6-47fd-be38-bb2aaa339333",
   "metadata": {},
   "outputs": [
    {
     "data": {
      "text/plain": [
       "Fri    50\n",
       "Mon    25\n",
       "Sat     0\n",
       "Sun     0\n",
       "Thu    40\n",
       "Tue    10\n",
       "Wed    30\n",
       "dtype: int64"
      ]
     },
     "execution_count": 54,
     "metadata": {},
     "output_type": "execute_result"
    }
   ],
   "source": [
    "sales.sort_index() # 인덱스가 문자열일 때는 아스키코드 기반"
   ]
  },
  {
   "cell_type": "code",
   "execution_count": 56,
   "id": "86b8d215-62e5-4ba8-bf46-811c3eba5349",
   "metadata": {},
   "outputs": [],
   "source": [
    "# nlargest() and nsmallest "
   ]
  },
  {
   "cell_type": "code",
   "execution_count": 60,
   "id": "9c572411-ae15-4063-902f-72bffbd3c6fd",
   "metadata": {},
   "outputs": [],
   "source": [
    "titanic = pd.read_csv(\"titanic.csv\")"
   ]
  },
  {
   "cell_type": "code",
   "execution_count": 62,
   "id": "28ddd795-b775-4351-bd0d-739548ca6eac",
   "metadata": {},
   "outputs": [
    {
     "data": {
      "text/html": [
       "<div>\n",
       "<style scoped>\n",
       "    .dataframe tbody tr th:only-of-type {\n",
       "        vertical-align: middle;\n",
       "    }\n",
       "\n",
       "    .dataframe tbody tr th {\n",
       "        vertical-align: top;\n",
       "    }\n",
       "\n",
       "    .dataframe thead th {\n",
       "        text-align: right;\n",
       "    }\n",
       "</style>\n",
       "<table border=\"1\" class=\"dataframe\">\n",
       "  <thead>\n",
       "    <tr style=\"text-align: right;\">\n",
       "      <th></th>\n",
       "      <th>survived</th>\n",
       "      <th>pclass</th>\n",
       "      <th>sex</th>\n",
       "      <th>age</th>\n",
       "      <th>sibsp</th>\n",
       "      <th>parch</th>\n",
       "      <th>fare</th>\n",
       "      <th>embarked</th>\n",
       "      <th>deck</th>\n",
       "    </tr>\n",
       "  </thead>\n",
       "  <tbody>\n",
       "    <tr>\n",
       "      <th>0</th>\n",
       "      <td>0</td>\n",
       "      <td>3</td>\n",
       "      <td>male</td>\n",
       "      <td>22.0</td>\n",
       "      <td>1</td>\n",
       "      <td>0</td>\n",
       "      <td>7.2500</td>\n",
       "      <td>S</td>\n",
       "      <td>NaN</td>\n",
       "    </tr>\n",
       "    <tr>\n",
       "      <th>1</th>\n",
       "      <td>1</td>\n",
       "      <td>1</td>\n",
       "      <td>female</td>\n",
       "      <td>38.0</td>\n",
       "      <td>1</td>\n",
       "      <td>0</td>\n",
       "      <td>71.2833</td>\n",
       "      <td>C</td>\n",
       "      <td>C</td>\n",
       "    </tr>\n",
       "    <tr>\n",
       "      <th>2</th>\n",
       "      <td>1</td>\n",
       "      <td>3</td>\n",
       "      <td>female</td>\n",
       "      <td>26.0</td>\n",
       "      <td>0</td>\n",
       "      <td>0</td>\n",
       "      <td>7.9250</td>\n",
       "      <td>S</td>\n",
       "      <td>NaN</td>\n",
       "    </tr>\n",
       "    <tr>\n",
       "      <th>3</th>\n",
       "      <td>1</td>\n",
       "      <td>1</td>\n",
       "      <td>female</td>\n",
       "      <td>35.0</td>\n",
       "      <td>1</td>\n",
       "      <td>0</td>\n",
       "      <td>53.1000</td>\n",
       "      <td>S</td>\n",
       "      <td>C</td>\n",
       "    </tr>\n",
       "    <tr>\n",
       "      <th>4</th>\n",
       "      <td>0</td>\n",
       "      <td>3</td>\n",
       "      <td>male</td>\n",
       "      <td>35.0</td>\n",
       "      <td>0</td>\n",
       "      <td>0</td>\n",
       "      <td>8.0500</td>\n",
       "      <td>S</td>\n",
       "      <td>NaN</td>\n",
       "    </tr>\n",
       "    <tr>\n",
       "      <th>...</th>\n",
       "      <td>...</td>\n",
       "      <td>...</td>\n",
       "      <td>...</td>\n",
       "      <td>...</td>\n",
       "      <td>...</td>\n",
       "      <td>...</td>\n",
       "      <td>...</td>\n",
       "      <td>...</td>\n",
       "      <td>...</td>\n",
       "    </tr>\n",
       "    <tr>\n",
       "      <th>886</th>\n",
       "      <td>0</td>\n",
       "      <td>2</td>\n",
       "      <td>male</td>\n",
       "      <td>27.0</td>\n",
       "      <td>0</td>\n",
       "      <td>0</td>\n",
       "      <td>13.0000</td>\n",
       "      <td>S</td>\n",
       "      <td>NaN</td>\n",
       "    </tr>\n",
       "    <tr>\n",
       "      <th>887</th>\n",
       "      <td>1</td>\n",
       "      <td>1</td>\n",
       "      <td>female</td>\n",
       "      <td>19.0</td>\n",
       "      <td>0</td>\n",
       "      <td>0</td>\n",
       "      <td>30.0000</td>\n",
       "      <td>S</td>\n",
       "      <td>B</td>\n",
       "    </tr>\n",
       "    <tr>\n",
       "      <th>888</th>\n",
       "      <td>0</td>\n",
       "      <td>3</td>\n",
       "      <td>female</td>\n",
       "      <td>NaN</td>\n",
       "      <td>1</td>\n",
       "      <td>2</td>\n",
       "      <td>23.4500</td>\n",
       "      <td>S</td>\n",
       "      <td>NaN</td>\n",
       "    </tr>\n",
       "    <tr>\n",
       "      <th>889</th>\n",
       "      <td>1</td>\n",
       "      <td>1</td>\n",
       "      <td>male</td>\n",
       "      <td>26.0</td>\n",
       "      <td>0</td>\n",
       "      <td>0</td>\n",
       "      <td>30.0000</td>\n",
       "      <td>C</td>\n",
       "      <td>C</td>\n",
       "    </tr>\n",
       "    <tr>\n",
       "      <th>890</th>\n",
       "      <td>0</td>\n",
       "      <td>3</td>\n",
       "      <td>male</td>\n",
       "      <td>32.0</td>\n",
       "      <td>0</td>\n",
       "      <td>0</td>\n",
       "      <td>7.7500</td>\n",
       "      <td>Q</td>\n",
       "      <td>NaN</td>\n",
       "    </tr>\n",
       "  </tbody>\n",
       "</table>\n",
       "<p>891 rows × 9 columns</p>\n",
       "</div>"
      ],
      "text/plain": [
       "     survived  pclass     sex   age  sibsp  parch     fare embarked deck\n",
       "0           0       3    male  22.0      1      0   7.2500        S  NaN\n",
       "1           1       1  female  38.0      1      0  71.2833        C    C\n",
       "2           1       3  female  26.0      0      0   7.9250        S  NaN\n",
       "3           1       1  female  35.0      1      0  53.1000        S    C\n",
       "4           0       3    male  35.0      0      0   8.0500        S  NaN\n",
       "..        ...     ...     ...   ...    ...    ...      ...      ...  ...\n",
       "886         0       2    male  27.0      0      0  13.0000        S  NaN\n",
       "887         1       1  female  19.0      0      0  30.0000        S    B\n",
       "888         0       3  female   NaN      1      2  23.4500        S  NaN\n",
       "889         1       1    male  26.0      0      0  30.0000        C    C\n",
       "890         0       3    male  32.0      0      0   7.7500        Q  NaN\n",
       "\n",
       "[891 rows x 9 columns]"
      ]
     },
     "execution_count": 62,
     "metadata": {},
     "output_type": "execute_result"
    }
   ],
   "source": [
    "titanic"
   ]
  },
  {
   "cell_type": "code",
   "execution_count": 64,
   "id": "70f584b5-6b44-4974-93fa-5869fb28dfe0",
   "metadata": {},
   "outputs": [
    {
     "data": {
      "text/plain": [
       "<bound method NDFrame.head of      survived  pclass     sex   age  sibsp  parch     fare embarked deck\n",
       "0           0       3    male  22.0      1      0   7.2500        S  NaN\n",
       "1           1       1  female  38.0      1      0  71.2833        C    C\n",
       "2           1       3  female  26.0      0      0   7.9250        S  NaN\n",
       "3           1       1  female  35.0      1      0  53.1000        S    C\n",
       "4           0       3    male  35.0      0      0   8.0500        S  NaN\n",
       "..        ...     ...     ...   ...    ...    ...      ...      ...  ...\n",
       "886         0       2    male  27.0      0      0  13.0000        S  NaN\n",
       "887         1       1  female  19.0      0      0  30.0000        S    B\n",
       "888         0       3  female   NaN      1      2  23.4500        S  NaN\n",
       "889         1       1    male  26.0      0      0  30.0000        C    C\n",
       "890         0       3    male  32.0      0      0   7.7500        Q  NaN\n",
       "\n",
       "[891 rows x 9 columns]>"
      ]
     },
     "execution_count": 64,
     "metadata": {},
     "output_type": "execute_result"
    }
   ],
   "source": [
    "titanic.head"
   ]
  },
  {
   "cell_type": "code",
   "execution_count": 66,
   "id": "a2cffcb2-ae5b-447d-8751-7f8b3de7d604",
   "metadata": {},
   "outputs": [],
   "source": [
    "age = titanic.age"
   ]
  },
  {
   "cell_type": "code",
   "execution_count": 68,
   "id": "a10110ba-2956-439a-ba90-4869272f09dd",
   "metadata": {},
   "outputs": [
    {
     "data": {
      "text/plain": [
       "0      22.0\n",
       "1      38.0\n",
       "2      26.0\n",
       "3      35.0\n",
       "4      35.0\n",
       "       ... \n",
       "886    27.0\n",
       "887    19.0\n",
       "888     NaN\n",
       "889    26.0\n",
       "890    32.0\n",
       "Name: age, Length: 891, dtype: float64"
      ]
     },
     "execution_count": 68,
     "metadata": {},
     "output_type": "execute_result"
    }
   ],
   "source": [
    "age"
   ]
  },
  {
   "cell_type": "code",
   "execution_count": 82,
   "id": "2ded3933-fc74-4530-94bb-554b9753ad8d",
   "metadata": {},
   "outputs": [
    {
     "data": {
      "text/plain": [
       "630    80.0\n",
       "851    74.0\n",
       "493    71.0\n",
       "Name: age, dtype: float64"
      ]
     },
     "execution_count": 82,
     "metadata": {},
     "output_type": "execute_result"
    }
   ],
   "source": [
    "age.sort_values(ascending=False).head(3)"
   ]
  },
  {
   "cell_type": "code",
   "execution_count": 102,
   "id": "f05841bc-ef90-4ba4-acd1-64d29ec4a88f",
   "metadata": {},
   "outputs": [
    {
     "data": {
      "text/plain": [
       "630    80.0\n",
       "851    74.0\n",
       "96     71.0\n",
       "Name: age, dtype: float64"
      ]
     },
     "execution_count": 102,
     "metadata": {},
     "output_type": "execute_result"
    }
   ],
   "source": [
    "'''\n",
    "\"\"\"\n",
    "nlargest(\n",
    "    n: 'int' = 5,\n",
    "    keep: \"Literal['first', 'last', 'all']\" = 'first',\n",
    ") -> 'Series'\n",
    "Docstring:\n",
    "Return the largest `n` elements.\n",
    "\"\"\"\n",
    "'''\n",
    "\n",
    "age.nlargest(n = 3) # 가장 큰 원소들을 기본적으로 5개 출력하는 메서드 # \n"
   ]
  },
  {
   "cell_type": "markdown",
   "id": "3761615c-2c79-42a1-874b-fff603ab3588",
   "metadata": {},
   "source": []
  },
  {
   "cell_type": "code",
   "execution_count": 106,
   "id": "c8c1aa09-e5cf-4e0b-b1e3-67545ab075cf",
   "metadata": {},
   "outputs": [
    {
     "data": {
      "text/plain": [
       "0      22.0\n",
       "1      38.0\n",
       "2      26.0\n",
       "3      35.0\n",
       "4      35.0\n",
       "       ... \n",
       "886    27.0\n",
       "887    19.0\n",
       "888     NaN\n",
       "889    26.0\n",
       "890    32.0\n",
       "Name: age, Length: 891, dtype: float64"
      ]
     },
     "execution_count": 106,
     "metadata": {},
     "output_type": "execute_result"
    }
   ],
   "source": [
    "age"
   ]
  },
  {
   "cell_type": "code",
   "execution_count": 110,
   "id": "515419fd-a7d2-4008-b9be-751429682cbc",
   "metadata": {},
   "outputs": [
    {
     "data": {
      "text/plain": [
       "803    0.42\n",
       "755    0.67\n",
       "644    0.75\n",
       "Name: age, dtype: float64"
      ]
     },
     "execution_count": 110,
     "metadata": {},
     "output_type": "execute_result"
    }
   ],
   "source": [
    "age.sort_values(ascending=True).iloc[:3] # 왼쪽에는 원본 데이터프레임의 rangeIndex 뜸"
   ]
  },
  {
   "cell_type": "code",
   "execution_count": 125,
   "id": "b8a6c08f-c7a8-4674-834f-047313959829",
   "metadata": {},
   "outputs": [
    {
     "data": {
      "text/plain": [
       "Index([803, 755, 469, 644, 78], dtype='int64')"
      ]
     },
     "execution_count": 125,
     "metadata": {},
     "output_type": "execute_result"
    }
   ],
   "source": [
    "age.nsmallest().index # 인덱스 객체 얻을 수 있음 "
   ]
  },
  {
   "cell_type": "code",
   "execution_count": null,
   "id": "f7a122cd-4291-42f0-ac1d-f6d33ddbc4b4",
   "metadata": {},
   "outputs": [],
   "source": []
  },
  {
   "cell_type": "code",
   "execution_count": 115,
   "id": "dc022460-2d49-4b72-a448-d840b58f9ec8",
   "metadata": {},
   "outputs": [],
   "source": [
    "# idxmin and idxmax "
   ]
  },
  {
   "cell_type": "code",
   "execution_count": 127,
   "id": "f6830b9c-3a3d-4d09-b314-8d3c6991b913",
   "metadata": {},
   "outputs": [],
   "source": [
    "titanic = pd.read_csv(\"titanic.csv\")"
   ]
  },
  {
   "cell_type": "code",
   "execution_count": 129,
   "id": "41210b0c-ee53-4652-9b74-8d874d95d480",
   "metadata": {},
   "outputs": [
    {
     "data": {
      "text/html": [
       "<div>\n",
       "<style scoped>\n",
       "    .dataframe tbody tr th:only-of-type {\n",
       "        vertical-align: middle;\n",
       "    }\n",
       "\n",
       "    .dataframe tbody tr th {\n",
       "        vertical-align: top;\n",
       "    }\n",
       "\n",
       "    .dataframe thead th {\n",
       "        text-align: right;\n",
       "    }\n",
       "</style>\n",
       "<table border=\"1\" class=\"dataframe\">\n",
       "  <thead>\n",
       "    <tr style=\"text-align: right;\">\n",
       "      <th></th>\n",
       "      <th>survived</th>\n",
       "      <th>pclass</th>\n",
       "      <th>sex</th>\n",
       "      <th>age</th>\n",
       "      <th>sibsp</th>\n",
       "      <th>parch</th>\n",
       "      <th>fare</th>\n",
       "      <th>embarked</th>\n",
       "      <th>deck</th>\n",
       "    </tr>\n",
       "  </thead>\n",
       "  <tbody>\n",
       "    <tr>\n",
       "      <th>0</th>\n",
       "      <td>0</td>\n",
       "      <td>3</td>\n",
       "      <td>male</td>\n",
       "      <td>22.0</td>\n",
       "      <td>1</td>\n",
       "      <td>0</td>\n",
       "      <td>7.2500</td>\n",
       "      <td>S</td>\n",
       "      <td>NaN</td>\n",
       "    </tr>\n",
       "    <tr>\n",
       "      <th>1</th>\n",
       "      <td>1</td>\n",
       "      <td>1</td>\n",
       "      <td>female</td>\n",
       "      <td>38.0</td>\n",
       "      <td>1</td>\n",
       "      <td>0</td>\n",
       "      <td>71.2833</td>\n",
       "      <td>C</td>\n",
       "      <td>C</td>\n",
       "    </tr>\n",
       "    <tr>\n",
       "      <th>2</th>\n",
       "      <td>1</td>\n",
       "      <td>3</td>\n",
       "      <td>female</td>\n",
       "      <td>26.0</td>\n",
       "      <td>0</td>\n",
       "      <td>0</td>\n",
       "      <td>7.9250</td>\n",
       "      <td>S</td>\n",
       "      <td>NaN</td>\n",
       "    </tr>\n",
       "    <tr>\n",
       "      <th>3</th>\n",
       "      <td>1</td>\n",
       "      <td>1</td>\n",
       "      <td>female</td>\n",
       "      <td>35.0</td>\n",
       "      <td>1</td>\n",
       "      <td>0</td>\n",
       "      <td>53.1000</td>\n",
       "      <td>S</td>\n",
       "      <td>C</td>\n",
       "    </tr>\n",
       "    <tr>\n",
       "      <th>4</th>\n",
       "      <td>0</td>\n",
       "      <td>3</td>\n",
       "      <td>male</td>\n",
       "      <td>35.0</td>\n",
       "      <td>0</td>\n",
       "      <td>0</td>\n",
       "      <td>8.0500</td>\n",
       "      <td>S</td>\n",
       "      <td>NaN</td>\n",
       "    </tr>\n",
       "    <tr>\n",
       "      <th>...</th>\n",
       "      <td>...</td>\n",
       "      <td>...</td>\n",
       "      <td>...</td>\n",
       "      <td>...</td>\n",
       "      <td>...</td>\n",
       "      <td>...</td>\n",
       "      <td>...</td>\n",
       "      <td>...</td>\n",
       "      <td>...</td>\n",
       "    </tr>\n",
       "    <tr>\n",
       "      <th>886</th>\n",
       "      <td>0</td>\n",
       "      <td>2</td>\n",
       "      <td>male</td>\n",
       "      <td>27.0</td>\n",
       "      <td>0</td>\n",
       "      <td>0</td>\n",
       "      <td>13.0000</td>\n",
       "      <td>S</td>\n",
       "      <td>NaN</td>\n",
       "    </tr>\n",
       "    <tr>\n",
       "      <th>887</th>\n",
       "      <td>1</td>\n",
       "      <td>1</td>\n",
       "      <td>female</td>\n",
       "      <td>19.0</td>\n",
       "      <td>0</td>\n",
       "      <td>0</td>\n",
       "      <td>30.0000</td>\n",
       "      <td>S</td>\n",
       "      <td>B</td>\n",
       "    </tr>\n",
       "    <tr>\n",
       "      <th>888</th>\n",
       "      <td>0</td>\n",
       "      <td>3</td>\n",
       "      <td>female</td>\n",
       "      <td>NaN</td>\n",
       "      <td>1</td>\n",
       "      <td>2</td>\n",
       "      <td>23.4500</td>\n",
       "      <td>S</td>\n",
       "      <td>NaN</td>\n",
       "    </tr>\n",
       "    <tr>\n",
       "      <th>889</th>\n",
       "      <td>1</td>\n",
       "      <td>1</td>\n",
       "      <td>male</td>\n",
       "      <td>26.0</td>\n",
       "      <td>0</td>\n",
       "      <td>0</td>\n",
       "      <td>30.0000</td>\n",
       "      <td>C</td>\n",
       "      <td>C</td>\n",
       "    </tr>\n",
       "    <tr>\n",
       "      <th>890</th>\n",
       "      <td>0</td>\n",
       "      <td>3</td>\n",
       "      <td>male</td>\n",
       "      <td>32.0</td>\n",
       "      <td>0</td>\n",
       "      <td>0</td>\n",
       "      <td>7.7500</td>\n",
       "      <td>Q</td>\n",
       "      <td>NaN</td>\n",
       "    </tr>\n",
       "  </tbody>\n",
       "</table>\n",
       "<p>891 rows × 9 columns</p>\n",
       "</div>"
      ],
      "text/plain": [
       "     survived  pclass     sex   age  sibsp  parch     fare embarked deck\n",
       "0           0       3    male  22.0      1      0   7.2500        S  NaN\n",
       "1           1       1  female  38.0      1      0  71.2833        C    C\n",
       "2           1       3  female  26.0      0      0   7.9250        S  NaN\n",
       "3           1       1  female  35.0      1      0  53.1000        S    C\n",
       "4           0       3    male  35.0      0      0   8.0500        S  NaN\n",
       "..        ...     ...     ...   ...    ...    ...      ...      ...  ...\n",
       "886         0       2    male  27.0      0      0  13.0000        S  NaN\n",
       "887         1       1  female  19.0      0      0  30.0000        S    B\n",
       "888         0       3  female   NaN      1      2  23.4500        S  NaN\n",
       "889         1       1    male  26.0      0      0  30.0000        C    C\n",
       "890         0       3    male  32.0      0      0   7.7500        Q  NaN\n",
       "\n",
       "[891 rows x 9 columns]"
      ]
     },
     "execution_count": 129,
     "metadata": {},
     "output_type": "execute_result"
    }
   ],
   "source": []
  },
  {
   "cell_type": "code",
   "execution_count": 133,
   "id": "9a6238b9-d4fc-4661-b129-c51bf872052a",
   "metadata": {},
   "outputs": [],
   "source": [
    "age = titanic.age"
   ]
  },
  {
   "cell_type": "code",
   "execution_count": 151,
   "id": "c34f7545-58c7-4c2f-8ff7-3f32efef02e6",
   "metadata": {},
   "outputs": [
    {
     "data": {
      "text/plain": [
       "803"
      ]
     },
     "execution_count": 151,
     "metadata": {},
     "output_type": "execute_result"
    }
   ],
   "source": [
    "titanic.age.idxmin()"
   ]
  },
  {
   "cell_type": "code",
   "execution_count": 139,
   "id": "180f5bca-66b8-4ee6-81f8-b95106a0931b",
   "metadata": {},
   "outputs": [
    {
     "data": {
      "text/plain": [
       "630"
      ]
     },
     "execution_count": 139,
     "metadata": {},
     "output_type": "execute_result"
    }
   ],
   "source": [
    "titanic.age.idxmax()"
   ]
  },
  {
   "cell_type": "code",
   "execution_count": 157,
   "id": "a1264487-caeb-493e-a6c9-27f0b62e41fe",
   "metadata": {},
   "outputs": [
    {
     "data": {
      "text/plain": [
       "survived         1\n",
       "pclass           3\n",
       "sex           male\n",
       "age           0.42\n",
       "sibsp            0\n",
       "parch            1\n",
       "fare        8.5167\n",
       "embarked         C\n",
       "deck           NaN\n",
       "Name: 803, dtype: object"
      ]
     },
     "execution_count": 157,
     "metadata": {},
     "output_type": "execute_result"
    }
   ],
   "source": [
    "titanic.loc[803]"
   ]
  },
  {
   "cell_type": "code",
   "execution_count": 159,
   "id": "dd30a26c-cdfc-49f2-a7d9-56aaf3d97624",
   "metadata": {},
   "outputs": [
    {
     "data": {
      "text/plain": [
       "survived       1\n",
       "pclass         1\n",
       "sex         male\n",
       "age         80.0\n",
       "sibsp          0\n",
       "parch          0\n",
       "fare        30.0\n",
       "embarked       S\n",
       "deck           A\n",
       "Name: 630, dtype: object"
      ]
     },
     "execution_count": 159,
     "metadata": {},
     "output_type": "execute_result"
    }
   ],
   "source": [
    "titanic.loc[630]"
   ]
  },
  {
   "cell_type": "code",
   "execution_count": 161,
   "id": "ef7fac7b-8a3a-4be2-818b-c202fab783b6",
   "metadata": {},
   "outputs": [
    {
     "data": {
      "text/plain": [
       "survived       1\n",
       "pclass         1\n",
       "sex         male\n",
       "age         80.0\n",
       "sibsp          0\n",
       "parch          0\n",
       "fare        30.0\n",
       "embarked       S\n",
       "deck           A\n",
       "Name: 630, dtype: object"
      ]
     },
     "execution_count": 161,
     "metadata": {},
     "output_type": "execute_result"
    }
   ],
   "source": [
    "titanic.loc[titanic.age.idxmax()] # 같은 결과를 얻을 수 있음"
   ]
  },
  {
   "cell_type": "code",
   "execution_count": 163,
   "id": "88e4d856-6b06-4189-8bb4-649c5b7e5f65",
   "metadata": {},
   "outputs": [
    {
     "data": {
      "text/plain": [
       "'\\nidxmax() / idxmin()의 기본 동작\\n이름 그대로:\\n\\nidxmax() → 값이 최대인 곳의 \"인덱스(label)\" 반환\\n\\nidxmin() → 값이 최소인 곳의 \"인덱스(label)\" 반환\\n\\n즉,\\n➔ \"값을 기준으로 최대/최소를 찾되, 결과는 인덱스 라벨로 준다.\"\\n'"
      ]
     },
     "execution_count": 163,
     "metadata": {},
     "output_type": "execute_result"
    }
   ],
   "source": [
    "\"\"\"\n",
    "idxmax() / idxmin()의 기본 동작\n",
    "이름 그대로:\n",
    "\n",
    "idxmax() → 값이 최대인 곳의 \"인덱스(label)\" 반환\n",
    "\n",
    "idxmin() → 값이 최소인 곳의 \"인덱스(label)\" 반환\n",
    "\n",
    "즉,\n",
    "➔ \"값을 기준으로 최대/최소를 찾되, 결과는 인덱스 라벨로 준다.\"\n",
    "\"\"\""
   ]
  },
  {
   "cell_type": "code",
   "execution_count": null,
   "id": "f8e89a49-213e-4790-aad5-1293f2df8362",
   "metadata": {},
   "outputs": [],
   "source": []
  },
  {
   "cell_type": "code",
   "execution_count": 166,
   "id": "f624ef8e-1154-4976-ba1b-c137b9c4e8fd",
   "metadata": {},
   "outputs": [],
   "source": [
    "# Manipulating Series "
   ]
  },
  {
   "cell_type": "code",
   "execution_count": null,
   "id": "fa62709a-aed1-4da5-b589-f8c4c60a0d0a",
   "metadata": {},
   "outputs": [],
   "source": []
  }
 ],
 "metadata": {
  "kernelspec": {
   "display_name": "Python [conda env:base] *",
   "language": "python",
   "name": "conda-base-py"
  },
  "language_info": {
   "codemirror_mode": {
    "name": "ipython",
    "version": 3
   },
   "file_extension": ".py",
   "mimetype": "text/x-python",
   "name": "python",
   "nbconvert_exporter": "python",
   "pygments_lexer": "ipython3",
   "version": "3.12.7"
  }
 },
 "nbformat": 4,
 "nbformat_minor": 5
}
