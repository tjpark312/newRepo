{
 "cells": [
  {
   "cell_type": "code",
   "execution_count": null,
   "id": "2e5fcf35-8383-4d43-8426-e0f3c1d2de32",
   "metadata": {},
   "outputs": [],
   "source": []
  }
 ],
 "metadata": {
  "kernelspec": {
   "display_name": "",
   "name": ""
  },
  "language_info": {
   "name": ""
  }
 },
 "nbformat": 4,
 "nbformat_minor": 5
}
