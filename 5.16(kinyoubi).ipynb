{
 "cells": [
  {
   "cell_type": "code",
   "execution_count": 2,
   "id": "a4244fdb-cdc2-4fab-95e7-7da923042723",
   "metadata": {},
   "outputs": [],
   "source": [
    "# Creating Pandas Series (Part2)"
   ]
  },
  {
   "cell_type": "code",
   "execution_count": 4,
   "id": "4258249b-2095-4bc8-878e-c0f04f027ccf",
   "metadata": {},
   "outputs": [],
   "source": [
    "# from Numpy Array"
   ]
  },
  {
   "cell_type": "code",
   "execution_count": 6,
   "id": "40bab7f4-ff25-4e2f-81db-688dc4679866",
   "metadata": {},
   "outputs": [],
   "source": [
    "import pandas as pd "
   ]
  },
  {
   "cell_type": "code",
   "execution_count": 10,
   "id": "ad1a6441-b17b-48b5-8113-29bbf2cc9561",
   "metadata": {},
   "outputs": [],
   "source": [
    "import numpy as np # numpy는 \"수치 계산 + 행렬(벡터) 처리\"를 빠르고 효율적으로 하기 위한 라이브러리"
   ]
  },
  {
   "cell_type": "code",
   "execution_count": 14,
   "id": "88f19c4b-fff7-447f-b473-0a726de59f83",
   "metadata": {},
   "outputs": [
    {
     "data": {
      "text/plain": [
       "array([10, 25,  6, 32,  2])"
      ]
     },
     "execution_count": 14,
     "metadata": {},
     "output_type": "execute_result"
    }
   ],
   "source": [
    "sales = np.array([10, 25, 6, 32, 2 ])\n",
    "sales"
   ]
  },
  {
   "cell_type": "code",
   "execution_count": 16,
   "id": "185922c8-c266-42ba-a210-baf94c31fa84",
   "metadata": {},
   "outputs": [
    {
     "data": {
      "text/plain": [
       "0    10\n",
       "1    25\n",
       "2     6\n",
       "3    32\n",
       "4     2\n",
       "dtype: int64"
      ]
     },
     "execution_count": 16,
     "metadata": {},
     "output_type": "execute_result"
    }
   ],
   "source": [
    "pd.Series(sales) # Numpy 배열로부텉 판다스 시리즈 만들 수 있음 "
   ]
  },
  {
   "cell_type": "code",
   "execution_count": 18,
   "id": "05b639aa-548f-4515-bbda-e91ca5b7fdcc",
   "metadata": {},
   "outputs": [],
   "source": [
    "# from List"
   ]
  },
  {
   "cell_type": "code",
   "execution_count": 20,
   "id": "b3c553f5-a842-4718-9db4-bae99f7b7912",
   "metadata": {},
   "outputs": [],
   "source": [
    "sales = [10,25,6,36,2] # 저번시간에 Series에 리스트 넣어줘도 RangeIndex 되면서 Series로 변환되는 것 확인함, index 직접 설정해도되고"
   ]
  },
  {
   "cell_type": "code",
   "execution_count": 22,
   "id": "bfeda22e-eb48-4ed0-ad22-3edd6c85e0b2",
   "metadata": {},
   "outputs": [
    {
     "data": {
      "text/plain": [
       "0    10\n",
       "1    25\n",
       "2     6\n",
       "3    36\n",
       "4     2\n",
       "dtype: int64"
      ]
     },
     "execution_count": 22,
     "metadata": {},
     "output_type": "execute_result"
    }
   ],
   "source": [
    "pd.Series(sales)"
   ]
  },
  {
   "cell_type": "code",
   "execution_count": 24,
   "id": "7e4ef1a7-8840-4977-91fe-ea42994cbffc",
   "metadata": {},
   "outputs": [],
   "source": [
    "# -> 같은 결과 출력되는 것을 확인할 수 있음 "
   ]
  },
  {
   "cell_type": "code",
   "execution_count": 27,
   "id": "8b4f217d-7ec9-42cc-b70b-b950add97c4a",
   "metadata": {},
   "outputs": [],
   "source": [
    "# from Dictionary"
   ]
  },
  {
   "cell_type": "code",
   "execution_count": 29,
   "id": "2067c77e-ea7a-4fc2-96b8-fc39eeedcd3c",
   "metadata": {},
   "outputs": [
    {
     "data": {
      "text/plain": [
       "{'Mon': 10, 'Tue': 25, 'Wed': 6, 'Thu': 36, 'Fri': 2}"
      ]
     },
     "execution_count": 29,
     "metadata": {},
     "output_type": "execute_result"
    }
   ],
   "source": [
    "dic = {\"Mon\":10, \"Tue\": 25, \"Wed\":6, \"Thu\": 36, \"Fri\" : 2}\n",
    "dic"
   ]
  },
  {
   "cell_type": "code",
   "execution_count": 31,
   "id": "ce8e0c09-958a-4d48-8b8d-e7ff023c1d85",
   "metadata": {},
   "outputs": [
    {
     "data": {
      "text/plain": [
       "Mon    10\n",
       "Tue    25\n",
       "Wed     6\n",
       "Thu    36\n",
       "Fri     2\n",
       "dtype: int64"
      ]
     },
     "execution_count": 31,
     "metadata": {},
     "output_type": "execute_result"
    }
   ],
   "source": [
    "sales = pd.Series(dic)\n",
    "sales"
   ]
  },
  {
   "cell_type": "code",
   "execution_count": 33,
   "id": "28e9a608-e1bd-49a9-8d11-906a06ef4610",
   "metadata": {},
   "outputs": [
    {
     "data": {
      "text/plain": [
       "Fri     2.0\n",
       "Thu    36.0\n",
       "Sat     NaN\n",
       "Sun     NaN\n",
       "Mon    10.0\n",
       "dtype: float64"
      ]
     },
     "execution_count": 33,
     "metadata": {},
     "output_type": "execute_result"
    }
   ],
   "source": [
    "sales = pd.Series(dic, index=[\"Fri\", \"Thu\", \"Sat\", \"Sun\", \"Mon\"]) # 딕셔너리에 맞는 키에 대한 값으로 가져오고 없는것은 결측값으로\n",
    "sales"
   ]
  },
  {
   "cell_type": "code",
   "execution_count": 39,
   "id": "e61d6ea2-5d42-4cc6-836b-89842c15ab0d",
   "metadata": {},
   "outputs": [
    {
     "data": {
      "text/plain": [
       "1   NaN\n",
       "2   NaN\n",
       "3   NaN\n",
       "4   NaN\n",
       "5   NaN\n",
       "dtype: float64"
      ]
     },
     "execution_count": 39,
     "metadata": {},
     "output_type": "execute_result"
    }
   ],
   "source": [
    "sales = pd.Series(dic, index=[1,2,3,4,5]) # 키에 해당하지 않는 것을 인덱스로 설정하면 당연히 모두 결측값으로 표시하게됨 \n",
    "sales"
   ]
  },
  {
   "cell_type": "code",
   "execution_count": null,
   "id": "84918d88-20bf-4f8b-a03c-d3ea0f1dd641",
   "metadata": {},
   "outputs": [],
   "source": [
    "# Indexing and Slicing"
   ]
  }
 ],
 "metadata": {
  "kernelspec": {
   "display_name": "Python [conda env:base] *",
   "language": "python",
   "name": "conda-base-py"
  },
  "language_info": {
   "codemirror_mode": {
    "name": "ipython",
    "version": 3
   },
   "file_extension": ".py",
   "mimetype": "text/x-python",
   "name": "python",
   "nbconvert_exporter": "python",
   "pygments_lexer": "ipython3",
   "version": "3.12.7"
  }
 },
 "nbformat": 4,
 "nbformat_minor": 5
}
