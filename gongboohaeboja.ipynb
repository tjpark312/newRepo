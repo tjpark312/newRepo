{
 "cells": [
  {
   "cell_type": "code",
   "execution_count": 2,
   "id": "d324ee3f-bc4a-451c-a8a0-ff6d7859907d",
   "metadata": {},
   "outputs": [],
   "source": [
    "#Sorting and introduction to the inplace - parameter\n",
    "# 6월 1일 "
   ]
  },
  {
   "cell_type": "code",
   "execution_count": 4,
   "id": "2346d250-2c55-4966-beb5-476a8bea9f67",
   "metadata": {},
   "outputs": [],
   "source": [
    "import pandas as pd "
   ]
  },
  {
   "cell_type": "code",
   "execution_count": 6,
   "id": "3e8418c5-0c38-486f-8067-17a60a357069",
   "metadata": {},
   "outputs": [],
   "source": [
    "dic = {1 : 10, 3 : 25, 2 : 15, 4:5, 5: 20, 6 : 0, 7 : None}\n",
    "\n",
    "# 월요일에는 10개 화요일에는 15개 수요일에는 25개가 판매되었다는 딕셔너리 주간 판매량 토요일과 일요일은 판매가 없으므로 "
   ]
  },
  {
   "cell_type": "code",
   "execution_count": 8,
   "id": "f39eab47-719f-46be-a323-3fcca8e5b8f7",
   "metadata": {},
   "outputs": [
    {
     "data": {
      "text/plain": [
       "{1: 10, 3: 25, 2: 15, 4: 5, 5: 20, 6: 0, 7: None}"
      ]
     },
     "execution_count": 8,
     "metadata": {},
     "output_type": "execute_result"
    }
   ],
   "source": [
    "dic"
   ]
  },
  {
   "cell_type": "code",
   "execution_count": 10,
   "id": "84c7975e-dcd1-4f25-93e5-1a46a9909fd7",
   "metadata": {},
   "outputs": [],
   "source": [
    "sales = pd.Series(dic)"
   ]
  },
  {
   "cell_type": "code",
   "execution_count": 12,
   "id": "d1b70ebb-f950-4c05-a19c-846fa47f57ba",
   "metadata": {},
   "outputs": [
    {
     "data": {
      "text/plain": [
       "1    10.0\n",
       "3    25.0\n",
       "2    15.0\n",
       "4     5.0\n",
       "5    20.0\n",
       "6     0.0\n",
       "7     NaN\n",
       "dtype: float64"
      ]
     },
     "execution_count": 12,
     "metadata": {},
     "output_type": "execute_result"
    }
   ],
   "source": [
    "sales"
   ]
  },
  {
   "cell_type": "code",
   "execution_count": 14,
   "id": "6dcc5c7e-86c9-48ab-b88a-53dda4509e24",
   "metadata": {},
   "outputs": [
    {
     "data": {
      "text/plain": [
       "1    10.0\n",
       "2    15.0\n",
       "3    25.0\n",
       "4     5.0\n",
       "5    20.0\n",
       "6     0.0\n",
       "7     NaN\n",
       "dtype: float64"
      ]
     },
     "execution_count": 14,
     "metadata": {},
     "output_type": "execute_result"
    }
   ],
   "source": [
    "sales.sort_index()"
   ]
  },
  {
   "cell_type": "code",
   "execution_count": 22,
   "id": "eaa900d7-4cfa-4e47-8187-84c834f0f624",
   "metadata": {},
   "outputs": [
    {
     "data": {
      "text/plain": [
       "1    10.0\n",
       "2    15.0\n",
       "3    25.0\n",
       "4     5.0\n",
       "5    20.0\n",
       "6     0.0\n",
       "7     NaN\n",
       "dtype: float64"
      ]
     },
     "execution_count": 22,
     "metadata": {},
     "output_type": "execute_result"
    }
   ],
   "source": [
    "sales.sort_index(ascending= True ) # ascending 으로 True, False로 오름차순, 내림차순 설정 가능  \n",
    "# 복사본을 만들어서 복사본만을 정렬한 것임 inplace: 'bool' = False 이기 때문에 "
   ]
  },
  {
   "cell_type": "code",
   "execution_count": 20,
   "id": "221e0e66-4b69-46ee-bd63-d92edc8928d1",
   "metadata": {},
   "outputs": [
    {
     "data": {
      "text/plain": [
       "1    10.0\n",
       "3    25.0\n",
       "2    15.0\n",
       "4     5.0\n",
       "5    20.0\n",
       "6     0.0\n",
       "7     NaN\n",
       "dtype: float64"
      ]
     },
     "execution_count": 20,
     "metadata": {},
     "output_type": "execute_result"
    }
   ],
   "source": [
    "sales # 인덱스가 그대로임 , 정렬된 인덱스가 메모리에 저장되지 않는 다는 뜻 "
   ]
  },
  {
   "cell_type": "code",
   "execution_count": 26,
   "id": "41060534-5416-4883-85d5-a6d495b20ebe",
   "metadata": {},
   "outputs": [],
   "source": [
    " sales.sort_index(ascending=True, inplace=True) # inplace 를 True로 하면 원래값을 대신하게 됨"
   ]
  },
  {
   "cell_type": "code",
   "execution_count": 28,
   "id": "d586a75a-aa8e-4f38-96ec-ff0e033d85bc",
   "metadata": {},
   "outputs": [
    {
     "data": {
      "text/plain": [
       "1    10.0\n",
       "2    15.0\n",
       "3    25.0\n",
       "4     5.0\n",
       "5    20.0\n",
       "6     0.0\n",
       "7     NaN\n",
       "dtype: float64"
      ]
     },
     "execution_count": 28,
     "metadata": {},
     "output_type": "execute_result"
    }
   ],
   "source": [
    "sales"
   ]
  },
  {
   "cell_type": "code",
   "execution_count": 42,
   "id": "e38301c6-8d18-42ec-8210-5eb831976915",
   "metadata": {},
   "outputs": [
    {
     "data": {
      "text/plain": [
       "7     NaN\n",
       "3    25.0\n",
       "5    20.0\n",
       "2    15.0\n",
       "1    10.0\n",
       "4     5.0\n",
       "6     0.0\n",
       "dtype: float64"
      ]
     },
     "execution_count": 42,
     "metadata": {},
     "output_type": "execute_result"
    }
   ],
   "source": [
    "sales.sort_values(inplace=True, ascending=False, na_position=\"first\") # 결측값 맨처음 or 맨끝 설정 가능 \n",
    "sales"
   ]
  },
  {
   "cell_type": "code",
   "execution_count": 44,
   "id": "c37bde55-10da-42e3-984d-8396e64230b5",
   "metadata": {},
   "outputs": [],
   "source": [
    "dic = {\"Mon\" : 25, \"Tue\" : 10, \"Wed\" : 30, \"Thu\" : 40, \"Fri\" : 50, \"Sat\" : 0, \"Sun\" : 0}"
   ]
  },
  {
   "cell_type": "code",
   "execution_count": 46,
   "id": "155bca4b-777d-4997-94e2-4cb7a1949ec8",
   "metadata": {},
   "outputs": [
    {
     "data": {
      "text/plain": [
       "{'Mon': 25, 'Tue': 10, 'Wed': 30, 'Thu': 40, 'Fri': 50, 'Sat': 0, 'Sun': 0}"
      ]
     },
     "execution_count": 46,
     "metadata": {},
     "output_type": "execute_result"
    }
   ],
   "source": [
    "dic"
   ]
  },
  {
   "cell_type": "code",
   "execution_count": 48,
   "id": "b348c335-2d00-46dc-b5b8-a2ba7417201f",
   "metadata": {},
   "outputs": [],
   "source": [
    "sales = pd.Series(dic)"
   ]
  },
  {
   "cell_type": "code",
   "execution_count": 50,
   "id": "7998a45e-73c8-41af-9a7b-6bc146d55b4e",
   "metadata": {},
   "outputs": [
    {
     "data": {
      "text/plain": [
       "Mon    25\n",
       "Tue    10\n",
       "Wed    30\n",
       "Thu    40\n",
       "Fri    50\n",
       "Sat     0\n",
       "Sun     0\n",
       "dtype: int64"
      ]
     },
     "execution_count": 50,
     "metadata": {},
     "output_type": "execute_result"
    }
   ],
   "source": [
    "sales"
   ]
  },
  {
   "cell_type": "code",
   "execution_count": 54,
   "id": "07cb444c-32e6-47fd-be38-bb2aaa339333",
   "metadata": {},
   "outputs": [
    {
     "data": {
      "text/plain": [
       "Fri    50\n",
       "Mon    25\n",
       "Sat     0\n",
       "Sun     0\n",
       "Thu    40\n",
       "Tue    10\n",
       "Wed    30\n",
       "dtype: int64"
      ]
     },
     "execution_count": 54,
     "metadata": {},
     "output_type": "execute_result"
    }
   ],
   "source": [
    "sales.sort_index() # 인덱스가 문자열일 때는 아스키코드 기반"
   ]
  },
  {
   "cell_type": "code",
   "execution_count": 56,
   "id": "86b8d215-62e5-4ba8-bf46-811c3eba5349",
   "metadata": {},
   "outputs": [],
   "source": [
    "# nlargest() and nsmallest "
   ]
  },
  {
   "cell_type": "code",
   "execution_count": 60,
   "id": "9c572411-ae15-4063-902f-72bffbd3c6fd",
   "metadata": {},
   "outputs": [],
   "source": [
    "titanic = pd.read_csv(\"titanic.csv\")"
   ]
  },
  {
   "cell_type": "code",
   "execution_count": 62,
   "id": "28ddd795-b775-4351-bd0d-739548ca6eac",
   "metadata": {},
   "outputs": [
    {
     "data": {
      "text/html": [
       "<div>\n",
       "<style scoped>\n",
       "    .dataframe tbody tr th:only-of-type {\n",
       "        vertical-align: middle;\n",
       "    }\n",
       "\n",
       "    .dataframe tbody tr th {\n",
       "        vertical-align: top;\n",
       "    }\n",
       "\n",
       "    .dataframe thead th {\n",
       "        text-align: right;\n",
       "    }\n",
       "</style>\n",
       "<table border=\"1\" class=\"dataframe\">\n",
       "  <thead>\n",
       "    <tr style=\"text-align: right;\">\n",
       "      <th></th>\n",
       "      <th>survived</th>\n",
       "      <th>pclass</th>\n",
       "      <th>sex</th>\n",
       "      <th>age</th>\n",
       "      <th>sibsp</th>\n",
       "      <th>parch</th>\n",
       "      <th>fare</th>\n",
       "      <th>embarked</th>\n",
       "      <th>deck</th>\n",
       "    </tr>\n",
       "  </thead>\n",
       "  <tbody>\n",
       "    <tr>\n",
       "      <th>0</th>\n",
       "      <td>0</td>\n",
       "      <td>3</td>\n",
       "      <td>male</td>\n",
       "      <td>22.0</td>\n",
       "      <td>1</td>\n",
       "      <td>0</td>\n",
       "      <td>7.2500</td>\n",
       "      <td>S</td>\n",
       "      <td>NaN</td>\n",
       "    </tr>\n",
       "    <tr>\n",
       "      <th>1</th>\n",
       "      <td>1</td>\n",
       "      <td>1</td>\n",
       "      <td>female</td>\n",
       "      <td>38.0</td>\n",
       "      <td>1</td>\n",
       "      <td>0</td>\n",
       "      <td>71.2833</td>\n",
       "      <td>C</td>\n",
       "      <td>C</td>\n",
       "    </tr>\n",
       "    <tr>\n",
       "      <th>2</th>\n",
       "      <td>1</td>\n",
       "      <td>3</td>\n",
       "      <td>female</td>\n",
       "      <td>26.0</td>\n",
       "      <td>0</td>\n",
       "      <td>0</td>\n",
       "      <td>7.9250</td>\n",
       "      <td>S</td>\n",
       "      <td>NaN</td>\n",
       "    </tr>\n",
       "    <tr>\n",
       "      <th>3</th>\n",
       "      <td>1</td>\n",
       "      <td>1</td>\n",
       "      <td>female</td>\n",
       "      <td>35.0</td>\n",
       "      <td>1</td>\n",
       "      <td>0</td>\n",
       "      <td>53.1000</td>\n",
       "      <td>S</td>\n",
       "      <td>C</td>\n",
       "    </tr>\n",
       "    <tr>\n",
       "      <th>4</th>\n",
       "      <td>0</td>\n",
       "      <td>3</td>\n",
       "      <td>male</td>\n",
       "      <td>35.0</td>\n",
       "      <td>0</td>\n",
       "      <td>0</td>\n",
       "      <td>8.0500</td>\n",
       "      <td>S</td>\n",
       "      <td>NaN</td>\n",
       "    </tr>\n",
       "    <tr>\n",
       "      <th>...</th>\n",
       "      <td>...</td>\n",
       "      <td>...</td>\n",
       "      <td>...</td>\n",
       "      <td>...</td>\n",
       "      <td>...</td>\n",
       "      <td>...</td>\n",
       "      <td>...</td>\n",
       "      <td>...</td>\n",
       "      <td>...</td>\n",
       "    </tr>\n",
       "    <tr>\n",
       "      <th>886</th>\n",
       "      <td>0</td>\n",
       "      <td>2</td>\n",
       "      <td>male</td>\n",
       "      <td>27.0</td>\n",
       "      <td>0</td>\n",
       "      <td>0</td>\n",
       "      <td>13.0000</td>\n",
       "      <td>S</td>\n",
       "      <td>NaN</td>\n",
       "    </tr>\n",
       "    <tr>\n",
       "      <th>887</th>\n",
       "      <td>1</td>\n",
       "      <td>1</td>\n",
       "      <td>female</td>\n",
       "      <td>19.0</td>\n",
       "      <td>0</td>\n",
       "      <td>0</td>\n",
       "      <td>30.0000</td>\n",
       "      <td>S</td>\n",
       "      <td>B</td>\n",
       "    </tr>\n",
       "    <tr>\n",
       "      <th>888</th>\n",
       "      <td>0</td>\n",
       "      <td>3</td>\n",
       "      <td>female</td>\n",
       "      <td>NaN</td>\n",
       "      <td>1</td>\n",
       "      <td>2</td>\n",
       "      <td>23.4500</td>\n",
       "      <td>S</td>\n",
       "      <td>NaN</td>\n",
       "    </tr>\n",
       "    <tr>\n",
       "      <th>889</th>\n",
       "      <td>1</td>\n",
       "      <td>1</td>\n",
       "      <td>male</td>\n",
       "      <td>26.0</td>\n",
       "      <td>0</td>\n",
       "      <td>0</td>\n",
       "      <td>30.0000</td>\n",
       "      <td>C</td>\n",
       "      <td>C</td>\n",
       "    </tr>\n",
       "    <tr>\n",
       "      <th>890</th>\n",
       "      <td>0</td>\n",
       "      <td>3</td>\n",
       "      <td>male</td>\n",
       "      <td>32.0</td>\n",
       "      <td>0</td>\n",
       "      <td>0</td>\n",
       "      <td>7.7500</td>\n",
       "      <td>Q</td>\n",
       "      <td>NaN</td>\n",
       "    </tr>\n",
       "  </tbody>\n",
       "</table>\n",
       "<p>891 rows × 9 columns</p>\n",
       "</div>"
      ],
      "text/plain": [
       "     survived  pclass     sex   age  sibsp  parch     fare embarked deck\n",
       "0           0       3    male  22.0      1      0   7.2500        S  NaN\n",
       "1           1       1  female  38.0      1      0  71.2833        C    C\n",
       "2           1       3  female  26.0      0      0   7.9250        S  NaN\n",
       "3           1       1  female  35.0      1      0  53.1000        S    C\n",
       "4           0       3    male  35.0      0      0   8.0500        S  NaN\n",
       "..        ...     ...     ...   ...    ...    ...      ...      ...  ...\n",
       "886         0       2    male  27.0      0      0  13.0000        S  NaN\n",
       "887         1       1  female  19.0      0      0  30.0000        S    B\n",
       "888         0       3  female   NaN      1      2  23.4500        S  NaN\n",
       "889         1       1    male  26.0      0      0  30.0000        C    C\n",
       "890         0       3    male  32.0      0      0   7.7500        Q  NaN\n",
       "\n",
       "[891 rows x 9 columns]"
      ]
     },
     "execution_count": 62,
     "metadata": {},
     "output_type": "execute_result"
    }
   ],
   "source": [
    "titanic"
   ]
  },
  {
   "cell_type": "code",
   "execution_count": 64,
   "id": "70f584b5-6b44-4974-93fa-5869fb28dfe0",
   "metadata": {},
   "outputs": [
    {
     "data": {
      "text/plain": [
       "<bound method NDFrame.head of      survived  pclass     sex   age  sibsp  parch     fare embarked deck\n",
       "0           0       3    male  22.0      1      0   7.2500        S  NaN\n",
       "1           1       1  female  38.0      1      0  71.2833        C    C\n",
       "2           1       3  female  26.0      0      0   7.9250        S  NaN\n",
       "3           1       1  female  35.0      1      0  53.1000        S    C\n",
       "4           0       3    male  35.0      0      0   8.0500        S  NaN\n",
       "..        ...     ...     ...   ...    ...    ...      ...      ...  ...\n",
       "886         0       2    male  27.0      0      0  13.0000        S  NaN\n",
       "887         1       1  female  19.0      0      0  30.0000        S    B\n",
       "888         0       3  female   NaN      1      2  23.4500        S  NaN\n",
       "889         1       1    male  26.0      0      0  30.0000        C    C\n",
       "890         0       3    male  32.0      0      0   7.7500        Q  NaN\n",
       "\n",
       "[891 rows x 9 columns]>"
      ]
     },
     "execution_count": 64,
     "metadata": {},
     "output_type": "execute_result"
    }
   ],
   "source": [
    "titanic.head"
   ]
  },
  {
   "cell_type": "code",
   "execution_count": 66,
   "id": "a2cffcb2-ae5b-447d-8751-7f8b3de7d604",
   "metadata": {},
   "outputs": [],
   "source": [
    "age = titanic.age"
   ]
  },
  {
   "cell_type": "code",
   "execution_count": 68,
   "id": "a10110ba-2956-439a-ba90-4869272f09dd",
   "metadata": {},
   "outputs": [
    {
     "data": {
      "text/plain": [
       "0      22.0\n",
       "1      38.0\n",
       "2      26.0\n",
       "3      35.0\n",
       "4      35.0\n",
       "       ... \n",
       "886    27.0\n",
       "887    19.0\n",
       "888     NaN\n",
       "889    26.0\n",
       "890    32.0\n",
       "Name: age, Length: 891, dtype: float64"
      ]
     },
     "execution_count": 68,
     "metadata": {},
     "output_type": "execute_result"
    }
   ],
   "source": [
    "age"
   ]
  },
  {
   "cell_type": "code",
   "execution_count": 82,
   "id": "2ded3933-fc74-4530-94bb-554b9753ad8d",
   "metadata": {},
   "outputs": [
    {
     "data": {
      "text/plain": [
       "630    80.0\n",
       "851    74.0\n",
       "493    71.0\n",
       "Name: age, dtype: float64"
      ]
     },
     "execution_count": 82,
     "metadata": {},
     "output_type": "execute_result"
    }
   ],
   "source": [
    "age.sort_values(ascending=False).head(3)"
   ]
  },
  {
   "cell_type": "code",
   "execution_count": 102,
   "id": "f05841bc-ef90-4ba4-acd1-64d29ec4a88f",
   "metadata": {},
   "outputs": [
    {
     "data": {
      "text/plain": [
       "630    80.0\n",
       "851    74.0\n",
       "96     71.0\n",
       "Name: age, dtype: float64"
      ]
     },
     "execution_count": 102,
     "metadata": {},
     "output_type": "execute_result"
    }
   ],
   "source": [
    "'''\n",
    "\"\"\"\n",
    "nlargest(\n",
    "    n: 'int' = 5,\n",
    "    keep: \"Literal['first', 'last', 'all']\" = 'first',\n",
    ") -> 'Series'\n",
    "Docstring:\n",
    "Return the largest `n` elements.\n",
    "\"\"\"\n",
    "'''\n",
    "\n",
    "age.nlargest(n = 3) # 가장 큰 원소들을 기본적으로 5개 출력하는 메서드 # \n"
   ]
  },
  {
   "cell_type": "markdown",
   "id": "3761615c-2c79-42a1-874b-fff603ab3588",
   "metadata": {},
   "source": []
  },
  {
   "cell_type": "code",
   "execution_count": 106,
   "id": "c8c1aa09-e5cf-4e0b-b1e3-67545ab075cf",
   "metadata": {},
   "outputs": [
    {
     "data": {
      "text/plain": [
       "0      22.0\n",
       "1      38.0\n",
       "2      26.0\n",
       "3      35.0\n",
       "4      35.0\n",
       "       ... \n",
       "886    27.0\n",
       "887    19.0\n",
       "888     NaN\n",
       "889    26.0\n",
       "890    32.0\n",
       "Name: age, Length: 891, dtype: float64"
      ]
     },
     "execution_count": 106,
     "metadata": {},
     "output_type": "execute_result"
    }
   ],
   "source": [
    "age"
   ]
  },
  {
   "cell_type": "code",
   "execution_count": 110,
   "id": "515419fd-a7d2-4008-b9be-751429682cbc",
   "metadata": {},
   "outputs": [
    {
     "data": {
      "text/plain": [
       "803    0.42\n",
       "755    0.67\n",
       "644    0.75\n",
       "Name: age, dtype: float64"
      ]
     },
     "execution_count": 110,
     "metadata": {},
     "output_type": "execute_result"
    }
   ],
   "source": [
    "age.sort_values(ascending=True).iloc[:3] # 왼쪽에는 원본 데이터프레임의 rangeIndex 뜸"
   ]
  },
  {
   "cell_type": "code",
   "execution_count": 125,
   "id": "b8a6c08f-c7a8-4674-834f-047313959829",
   "metadata": {},
   "outputs": [
    {
     "data": {
      "text/plain": [
       "Index([803, 755, 469, 644, 78], dtype='int64')"
      ]
     },
     "execution_count": 125,
     "metadata": {},
     "output_type": "execute_result"
    }
   ],
   "source": [
    "age.nsmallest().index # 인덱스 객체 얻을 수 있음 "
   ]
  },
  {
   "cell_type": "code",
   "execution_count": null,
   "id": "f7a122cd-4291-42f0-ac1d-f6d33ddbc4b4",
   "metadata": {},
   "outputs": [],
   "source": []
  },
  {
   "cell_type": "code",
   "execution_count": 115,
   "id": "dc022460-2d49-4b72-a448-d840b58f9ec8",
   "metadata": {},
   "outputs": [],
   "source": [
    "# idxmin and idxmax "
   ]
  },
  {
   "cell_type": "code",
   "execution_count": 127,
   "id": "f6830b9c-3a3d-4d09-b314-8d3c6991b913",
   "metadata": {},
   "outputs": [],
   "source": [
    "titanic = pd.read_csv(\"titanic.csv\")"
   ]
  },
  {
   "cell_type": "code",
   "execution_count": 129,
   "id": "41210b0c-ee53-4652-9b74-8d874d95d480",
   "metadata": {},
   "outputs": [
    {
     "data": {
      "text/html": [
       "<div>\n",
       "<style scoped>\n",
       "    .dataframe tbody tr th:only-of-type {\n",
       "        vertical-align: middle;\n",
       "    }\n",
       "\n",
       "    .dataframe tbody tr th {\n",
       "        vertical-align: top;\n",
       "    }\n",
       "\n",
       "    .dataframe thead th {\n",
       "        text-align: right;\n",
       "    }\n",
       "</style>\n",
       "<table border=\"1\" class=\"dataframe\">\n",
       "  <thead>\n",
       "    <tr style=\"text-align: right;\">\n",
       "      <th></th>\n",
       "      <th>survived</th>\n",
       "      <th>pclass</th>\n",
       "      <th>sex</th>\n",
       "      <th>age</th>\n",
       "      <th>sibsp</th>\n",
       "      <th>parch</th>\n",
       "      <th>fare</th>\n",
       "      <th>embarked</th>\n",
       "      <th>deck</th>\n",
       "    </tr>\n",
       "  </thead>\n",
       "  <tbody>\n",
       "    <tr>\n",
       "      <th>0</th>\n",
       "      <td>0</td>\n",
       "      <td>3</td>\n",
       "      <td>male</td>\n",
       "      <td>22.0</td>\n",
       "      <td>1</td>\n",
       "      <td>0</td>\n",
       "      <td>7.2500</td>\n",
       "      <td>S</td>\n",
       "      <td>NaN</td>\n",
       "    </tr>\n",
       "    <tr>\n",
       "      <th>1</th>\n",
       "      <td>1</td>\n",
       "      <td>1</td>\n",
       "      <td>female</td>\n",
       "      <td>38.0</td>\n",
       "      <td>1</td>\n",
       "      <td>0</td>\n",
       "      <td>71.2833</td>\n",
       "      <td>C</td>\n",
       "      <td>C</td>\n",
       "    </tr>\n",
       "    <tr>\n",
       "      <th>2</th>\n",
       "      <td>1</td>\n",
       "      <td>3</td>\n",
       "      <td>female</td>\n",
       "      <td>26.0</td>\n",
       "      <td>0</td>\n",
       "      <td>0</td>\n",
       "      <td>7.9250</td>\n",
       "      <td>S</td>\n",
       "      <td>NaN</td>\n",
       "    </tr>\n",
       "    <tr>\n",
       "      <th>3</th>\n",
       "      <td>1</td>\n",
       "      <td>1</td>\n",
       "      <td>female</td>\n",
       "      <td>35.0</td>\n",
       "      <td>1</td>\n",
       "      <td>0</td>\n",
       "      <td>53.1000</td>\n",
       "      <td>S</td>\n",
       "      <td>C</td>\n",
       "    </tr>\n",
       "    <tr>\n",
       "      <th>4</th>\n",
       "      <td>0</td>\n",
       "      <td>3</td>\n",
       "      <td>male</td>\n",
       "      <td>35.0</td>\n",
       "      <td>0</td>\n",
       "      <td>0</td>\n",
       "      <td>8.0500</td>\n",
       "      <td>S</td>\n",
       "      <td>NaN</td>\n",
       "    </tr>\n",
       "    <tr>\n",
       "      <th>...</th>\n",
       "      <td>...</td>\n",
       "      <td>...</td>\n",
       "      <td>...</td>\n",
       "      <td>...</td>\n",
       "      <td>...</td>\n",
       "      <td>...</td>\n",
       "      <td>...</td>\n",
       "      <td>...</td>\n",
       "      <td>...</td>\n",
       "    </tr>\n",
       "    <tr>\n",
       "      <th>886</th>\n",
       "      <td>0</td>\n",
       "      <td>2</td>\n",
       "      <td>male</td>\n",
       "      <td>27.0</td>\n",
       "      <td>0</td>\n",
       "      <td>0</td>\n",
       "      <td>13.0000</td>\n",
       "      <td>S</td>\n",
       "      <td>NaN</td>\n",
       "    </tr>\n",
       "    <tr>\n",
       "      <th>887</th>\n",
       "      <td>1</td>\n",
       "      <td>1</td>\n",
       "      <td>female</td>\n",
       "      <td>19.0</td>\n",
       "      <td>0</td>\n",
       "      <td>0</td>\n",
       "      <td>30.0000</td>\n",
       "      <td>S</td>\n",
       "      <td>B</td>\n",
       "    </tr>\n",
       "    <tr>\n",
       "      <th>888</th>\n",
       "      <td>0</td>\n",
       "      <td>3</td>\n",
       "      <td>female</td>\n",
       "      <td>NaN</td>\n",
       "      <td>1</td>\n",
       "      <td>2</td>\n",
       "      <td>23.4500</td>\n",
       "      <td>S</td>\n",
       "      <td>NaN</td>\n",
       "    </tr>\n",
       "    <tr>\n",
       "      <th>889</th>\n",
       "      <td>1</td>\n",
       "      <td>1</td>\n",
       "      <td>male</td>\n",
       "      <td>26.0</td>\n",
       "      <td>0</td>\n",
       "      <td>0</td>\n",
       "      <td>30.0000</td>\n",
       "      <td>C</td>\n",
       "      <td>C</td>\n",
       "    </tr>\n",
       "    <tr>\n",
       "      <th>890</th>\n",
       "      <td>0</td>\n",
       "      <td>3</td>\n",
       "      <td>male</td>\n",
       "      <td>32.0</td>\n",
       "      <td>0</td>\n",
       "      <td>0</td>\n",
       "      <td>7.7500</td>\n",
       "      <td>Q</td>\n",
       "      <td>NaN</td>\n",
       "    </tr>\n",
       "  </tbody>\n",
       "</table>\n",
       "<p>891 rows × 9 columns</p>\n",
       "</div>"
      ],
      "text/plain": [
       "     survived  pclass     sex   age  sibsp  parch     fare embarked deck\n",
       "0           0       3    male  22.0      1      0   7.2500        S  NaN\n",
       "1           1       1  female  38.0      1      0  71.2833        C    C\n",
       "2           1       3  female  26.0      0      0   7.9250        S  NaN\n",
       "3           1       1  female  35.0      1      0  53.1000        S    C\n",
       "4           0       3    male  35.0      0      0   8.0500        S  NaN\n",
       "..        ...     ...     ...   ...    ...    ...      ...      ...  ...\n",
       "886         0       2    male  27.0      0      0  13.0000        S  NaN\n",
       "887         1       1  female  19.0      0      0  30.0000        S    B\n",
       "888         0       3  female   NaN      1      2  23.4500        S  NaN\n",
       "889         1       1    male  26.0      0      0  30.0000        C    C\n",
       "890         0       3    male  32.0      0      0   7.7500        Q  NaN\n",
       "\n",
       "[891 rows x 9 columns]"
      ]
     },
     "execution_count": 129,
     "metadata": {},
     "output_type": "execute_result"
    }
   ],
   "source": []
  },
  {
   "cell_type": "code",
   "execution_count": 133,
   "id": "9a6238b9-d4fc-4661-b129-c51bf872052a",
   "metadata": {},
   "outputs": [],
   "source": [
    "age = titanic.age"
   ]
  },
  {
   "cell_type": "code",
   "execution_count": 151,
   "id": "c34f7545-58c7-4c2f-8ff7-3f32efef02e6",
   "metadata": {},
   "outputs": [
    {
     "data": {
      "text/plain": [
       "803"
      ]
     },
     "execution_count": 151,
     "metadata": {},
     "output_type": "execute_result"
    }
   ],
   "source": [
    "titanic.age.idxmin()"
   ]
  },
  {
   "cell_type": "code",
   "execution_count": 139,
   "id": "180f5bca-66b8-4ee6-81f8-b95106a0931b",
   "metadata": {},
   "outputs": [
    {
     "data": {
      "text/plain": [
       "630"
      ]
     },
     "execution_count": 139,
     "metadata": {},
     "output_type": "execute_result"
    }
   ],
   "source": [
    "titanic.age.idxmax()"
   ]
  },
  {
   "cell_type": "code",
   "execution_count": 157,
   "id": "a1264487-caeb-493e-a6c9-27f0b62e41fe",
   "metadata": {},
   "outputs": [
    {
     "data": {
      "text/plain": [
       "survived         1\n",
       "pclass           3\n",
       "sex           male\n",
       "age           0.42\n",
       "sibsp            0\n",
       "parch            1\n",
       "fare        8.5167\n",
       "embarked         C\n",
       "deck           NaN\n",
       "Name: 803, dtype: object"
      ]
     },
     "execution_count": 157,
     "metadata": {},
     "output_type": "execute_result"
    }
   ],
   "source": [
    "titanic.loc[803]"
   ]
  },
  {
   "cell_type": "code",
   "execution_count": 159,
   "id": "dd30a26c-cdfc-49f2-a7d9-56aaf3d97624",
   "metadata": {},
   "outputs": [
    {
     "data": {
      "text/plain": [
       "survived       1\n",
       "pclass         1\n",
       "sex         male\n",
       "age         80.0\n",
       "sibsp          0\n",
       "parch          0\n",
       "fare        30.0\n",
       "embarked       S\n",
       "deck           A\n",
       "Name: 630, dtype: object"
      ]
     },
     "execution_count": 159,
     "metadata": {},
     "output_type": "execute_result"
    }
   ],
   "source": [
    "titanic.loc[630]"
   ]
  },
  {
   "cell_type": "code",
   "execution_count": 161,
   "id": "ef7fac7b-8a3a-4be2-818b-c202fab783b6",
   "metadata": {},
   "outputs": [
    {
     "data": {
      "text/plain": [
       "survived       1\n",
       "pclass         1\n",
       "sex         male\n",
       "age         80.0\n",
       "sibsp          0\n",
       "parch          0\n",
       "fare        30.0\n",
       "embarked       S\n",
       "deck           A\n",
       "Name: 630, dtype: object"
      ]
     },
     "execution_count": 161,
     "metadata": {},
     "output_type": "execute_result"
    }
   ],
   "source": [
    "titanic.loc[titanic.age.idxmax()] # 같은 결과를 얻을 수 있음"
   ]
  },
  {
   "cell_type": "code",
   "execution_count": 163,
   "id": "88e4d856-6b06-4189-8bb4-649c5b7e5f65",
   "metadata": {},
   "outputs": [
    {
     "data": {
      "text/plain": [
       "'\\nidxmax() / idxmin()의 기본 동작\\n이름 그대로:\\n\\nidxmax() → 값이 최대인 곳의 \"인덱스(label)\" 반환\\n\\nidxmin() → 값이 최소인 곳의 \"인덱스(label)\" 반환\\n\\n즉,\\n➔ \"값을 기준으로 최대/최소를 찾되, 결과는 인덱스 라벨로 준다.\"\\n'"
      ]
     },
     "execution_count": 163,
     "metadata": {},
     "output_type": "execute_result"
    }
   ],
   "source": [
    "\"\"\"\n",
    "idxmax() / idxmin()의 기본 동작\n",
    "이름 그대로:\n",
    "\n",
    "idxmax() → 값이 최대인 곳의 \"인덱스(label)\" 반환\n",
    "\n",
    "idxmin() → 값이 최소인 곳의 \"인덱스(label)\" 반환\n",
    "\n",
    "즉,\n",
    "➔ \"값을 기준으로 최대/최소를 찾되, 결과는 인덱스 라벨로 준다.\"\n",
    "\"\"\""
   ]
  },
  {
   "cell_type": "code",
   "execution_count": null,
   "id": "f8e89a49-213e-4790-aad5-1293f2df8362",
   "metadata": {},
   "outputs": [],
   "source": []
  },
  {
   "cell_type": "code",
   "execution_count": 166,
   "id": "f624ef8e-1154-4976-ba1b-c137b9c4e8fd",
   "metadata": {},
   "outputs": [],
   "source": [
    "# Manipulating Series "
   ]
  },
  {
   "cell_type": "code",
   "execution_count": 1,
   "id": "fa62709a-aed1-4da5-b589-f8c4c60a0d0a",
   "metadata": {},
   "outputs": [],
   "source": [
    "import pandas as pd"
   ]
  },
  {
   "cell_type": "code",
   "execution_count": 3,
   "id": "6e796355-6d5f-4c8e-a7b7-5670fb57fd24",
   "metadata": {},
   "outputs": [
    {
     "data": {
      "text/plain": [
       "Mon    10.0\n",
       "Tue    25.0\n",
       "Wed     6.0\n",
       "Thu    36.0\n",
       "Fri     2.0\n",
       "Sat     0.0\n",
       "Sun     NaN\n",
       "Mon     5.0\n",
       "dtype: float64"
      ]
     },
     "execution_count": 3,
     "metadata": {},
     "output_type": "execute_result"
    }
   ],
   "source": [
    "sales = pd.Series([10,25,6,36,2,0,None,5], index = [\"Mon\", \"Tue\", \"Wed\", \"Thu\", \"Fri\", \"Sat\", \"Sun\", \"Mon\"])\n",
    "sales"
   ]
  },
  {
   "cell_type": "code",
   "execution_count": 9,
   "id": "b64d1ce9-fa79-444c-87ea-557fdb2653ad",
   "metadata": {},
   "outputs": [],
   "source": [
    "sales[\"Sun\"] = 0"
   ]
  },
  {
   "cell_type": "code",
   "execution_count": 11,
   "id": "a0669c13-60c9-4b68-8429-2d67155d891d",
   "metadata": {},
   "outputs": [
    {
     "data": {
      "text/plain": [
       "Mon    10.0\n",
       "Tue    25.0\n",
       "Wed     6.0\n",
       "Thu    36.0\n",
       "Fri     2.0\n",
       "Sat     0.0\n",
       "Sun     0.0\n",
       "Mon     5.0\n",
       "dtype: float64"
      ]
     },
     "execution_count": 11,
     "metadata": {},
     "output_type": "execute_result"
    }
   ],
   "source": []
  },
  {
   "cell_type": "code",
   "execution_count": 13,
   "id": "ebd9f8f5-75ac-47c7-97f0-4cff6903d3ad",
   "metadata": {},
   "outputs": [],
   "source": [
    "# 순서를 이용한 인덱싱도 가능, 예를들어 네번째 원소를 선택하려면 "
   ]
  },
  {
   "cell_type": "code",
   "execution_count": 17,
   "id": "d26f30fb-81df-4156-9cac-328a1560633b",
   "metadata": {},
   "outputs": [],
   "source": [
    "sales.iloc[3] = 50 # 반드시 명시적으로 iloc 연산자 써주도록"
   ]
  },
  {
   "cell_type": "code",
   "execution_count": 19,
   "id": "adccde85-c16f-4b09-901a-fe553042e4bb",
   "metadata": {},
   "outputs": [
    {
     "data": {
      "text/plain": [
       "Mon    10.0\n",
       "Tue    25.0\n",
       "Wed     6.0\n",
       "Thu    50.0\n",
       "Fri     2.0\n",
       "Sat     0.0\n",
       "Sun     0.0\n",
       "Mon     5.0\n",
       "dtype: float64"
      ]
     },
     "execution_count": 19,
     "metadata": {},
     "output_type": "execute_result"
    }
   ],
   "source": [
    "sales"
   ]
  },
  {
   "cell_type": "code",
   "execution_count": 21,
   "id": "3f07a52e-68b0-4ec0-9258-dc6ddf47d310",
   "metadata": {},
   "outputs": [
    {
     "data": {
      "text/plain": [
       "\"\\n3. 대표 예시\\npython\\n복사\\nimport pandas as pd\\nimport numpy as np\\n\\ns = pd.Series([1, 2, 3, 4, 5], index=['a', 'b', 'c', 'd', 'e'])\\nt = pd.Series([10, 20, 30, 40, 50], index=['a', 'b', 'c', 'd', 'e'])\\n목적\\t“벡터화” 한 줄 예\\t결과\\n\\n스칼라(상수) 연산\\ts + 10\\ta 11 · b 12 · …\\n시리즈 간 연산\\ts * t\\ta 10 · b 40 · …\\n브로드캐스팅\\ts + np.array([100, 200, 300, 400, 500])\\ta 101 · b 202 · …\\n수학 함수\\tnp.log(s)\\tln 1, ln 2, …\\n불리언 필터\\ts[s > 3]\\td 4 · e 5\\n복합 표현\\t(s**2 + t).clip(upper=70)\\ta 11 · b 24 · c 39 · d 70 · e 70\\n\""
      ]
     },
     "execution_count": 21,
     "metadata": {},
     "output_type": "execute_result"
    }
   ],
   "source": [
    "# pandas Series 에서는 NumPy에서와 마찬가지로 원소들끼리 벡터화연산을 하는 것이 가능함\n",
    "# 여러 원소에 대해서 for Loop 안돌리고 저수준 코드에서 배열(벡터) 단위로 한꺼번에 계산하는 것\n",
    "\n",
    "\"\"\"\n",
    "3. 대표 예시\n",
    "python\n",
    "복사\n",
    "import pandas as pd\n",
    "import numpy as np\n",
    "\n",
    "s = pd.Series([1, 2, 3, 4, 5], index=['a', 'b', 'c', 'd', 'e'])\n",
    "t = pd.Series([10, 20, 30, 40, 50], index=['a', 'b', 'c', 'd', 'e'])\n",
    "목적\t“벡터화” 한 줄 예\t결과\n",
    "\n",
    "스칼라(상수) 연산\ts + 10\ta 11 · b 12 · …\n",
    "시리즈 간 연산\ts * t\ta 10 · b 40 · …\n",
    "브로드캐스팅\ts + np.array([100, 200, 300, 400, 500])\ta 101 · b 202 · …\n",
    "수학 함수\tnp.log(s)\tln 1, ln 2, …\n",
    "불리언 필터\ts[s > 3]\td 4 · e 5\n",
    "복합 표현\t(s**2 + t).clip(upper=70)\ta 11 · b 24 · c 39 · d 70 · e 70\n",
    "\"\"\""
   ]
  },
  {
   "cell_type": "code",
   "execution_count": 23,
   "id": "0aad19e2-2b2d-4d3f-82b8-0413de89ef31",
   "metadata": {},
   "outputs": [],
   "source": [
    "# 만약 위의 데이터의 원소들이 달러일 때의 값이고 유로화를 해준다고 한다면?\n",
    "# 즉 1유로가 1.1 달러인 상황\n",
    "# 여기서 리스트로 바꾸어서 계산을 하려면 for문을 이용해 각 원소마다 계싼해줘야함 "
   ]
  },
  {
   "cell_type": "code",
   "execution_count": 27,
   "id": "ef8f9c6e-3b59-43f7-9a09-4e1913922e0e",
   "metadata": {},
   "outputs": [
    {
     "data": {
      "text/plain": [
       "Mon     9.09\n",
       "Tue    22.73\n",
       "Wed     5.45\n",
       "Thu    45.45\n",
       "Fri     1.82\n",
       "Sat     0.00\n",
       "Sun     0.00\n",
       "Mon     4.55\n",
       "dtype: float64"
      ]
     },
     "execution_count": 27,
     "metadata": {},
     "output_type": "execute_result"
    }
   ],
   "source": [
    "(sales/1.1).round(2) # 소수 둘 째자리 까지 표현, Series 에서 벡터화 연산이 가능하기 때문에 다음과 같이 연산이 가능함 "
   ]
  },
  {
   "cell_type": "code",
   "execution_count": 29,
   "id": "11a4e05f-bb03-4bbc-874a-5e63437afda7",
   "metadata": {},
   "outputs": [],
   "source": [
    "sales_UR = (sales/1.1).round(2)"
   ]
  },
  {
   "cell_type": "code",
   "execution_count": 31,
   "id": "70ec8e45-efe6-4d13-b51b-de71be3f7c2c",
   "metadata": {},
   "outputs": [
    {
     "data": {
      "text/plain": [
       "Mon     9.09\n",
       "Tue    22.73\n",
       "Wed     5.45\n",
       "Thu    45.45\n",
       "Fri     1.82\n",
       "Sat     0.00\n",
       "Sun     0.00\n",
       "Mon     4.55\n",
       "dtype: float64"
      ]
     },
     "execution_count": 31,
     "metadata": {},
     "output_type": "execute_result"
    }
   ],
   "source": [
    "sales_UR"
   ]
  },
  {
   "cell_type": "code",
   "execution_count": 33,
   "id": "92ba6857-3e19-4eae-801b-9751667e41f8",
   "metadata": {},
   "outputs": [],
   "source": [
    "sales = (sales/1.1).round(2)"
   ]
  },
  {
   "cell_type": "code",
   "execution_count": 35,
   "id": "ec430e05-3a8d-4238-911c-9143ec162d6f",
   "metadata": {},
   "outputs": [
    {
     "data": {
      "text/plain": [
       "Mon     9.09\n",
       "Tue    22.73\n",
       "Wed     5.45\n",
       "Thu    45.45\n",
       "Fri     1.82\n",
       "Sat     0.00\n",
       "Sun     0.00\n",
       "Mon     4.55\n",
       "dtype: float64"
      ]
     },
     "execution_count": 35,
     "metadata": {},
     "output_type": "execute_result"
    }
   ],
   "source": [
    "sales"
   ]
  },
  {
   "cell_type": "code",
   "execution_count": 37,
   "id": "d97353af-5465-41ed-bd81-125d3ff36d6f",
   "metadata": {},
   "outputs": [],
   "source": [
    "# 만약 지난주의 월요일의 값이 잘못 기입되었다고 가정했을 때 만약 판매량 0이 맞는 값이라고 가정하면?"
   ]
  },
  {
   "cell_type": "code",
   "execution_count": 39,
   "id": "d45574eb-504d-45c9-8cd9-f306a72ebef3",
   "metadata": {},
   "outputs": [],
   "source": [
    "sales[\"Mon\"] = 0"
   ]
  },
  {
   "cell_type": "code",
   "execution_count": 41,
   "id": "ab57a982-1936-4b5e-b03f-9031d6a8bca7",
   "metadata": {},
   "outputs": [
    {
     "data": {
      "text/plain": [
       "Mon     0.00\n",
       "Tue    22.73\n",
       "Wed     5.45\n",
       "Thu    45.45\n",
       "Fri     1.82\n",
       "Sat     0.00\n",
       "Sun     0.00\n",
       "Mon     0.00\n",
       "dtype: float64"
      ]
     },
     "execution_count": 41,
     "metadata": {},
     "output_type": "execute_result"
    }
   ],
   "source": [
    "sales"
   ]
  },
  {
   "cell_type": "code",
   "execution_count": 43,
   "id": "f2a754b4-4e3f-48bc-a7b8-c0a5ce3eb8e5",
   "metadata": {},
   "outputs": [],
   "source": [
    "# 라벨기반으로하면 지난 주 이번 주 월요일의 값이 전부 0이 됨"
   ]
  },
  {
   "cell_type": "code",
   "execution_count": null,
   "id": "bf75eaa1-b270-4aee-90fd-d61509b2ab31",
   "metadata": {},
   "outputs": [],
   "source": []
  },
  {
   "cell_type": "code",
   "execution_count": 46,
   "id": "946f252a-0148-492a-90c1-8fab3894d00e",
   "metadata": {},
   "outputs": [],
   "source": [
    "titanic = pd.read_csv(\"titanic.csv\")"
   ]
  },
  {
   "cell_type": "code",
   "execution_count": 50,
   "id": "32efcd6d-464e-433a-83f1-c35dee7da747",
   "metadata": {},
   "outputs": [
    {
     "data": {
      "text/html": [
       "<div>\n",
       "<style scoped>\n",
       "    .dataframe tbody tr th:only-of-type {\n",
       "        vertical-align: middle;\n",
       "    }\n",
       "\n",
       "    .dataframe tbody tr th {\n",
       "        vertical-align: top;\n",
       "    }\n",
       "\n",
       "    .dataframe thead th {\n",
       "        text-align: right;\n",
       "    }\n",
       "</style>\n",
       "<table border=\"1\" class=\"dataframe\">\n",
       "  <thead>\n",
       "    <tr style=\"text-align: right;\">\n",
       "      <th></th>\n",
       "      <th>survived</th>\n",
       "      <th>pclass</th>\n",
       "      <th>sex</th>\n",
       "      <th>age</th>\n",
       "      <th>sibsp</th>\n",
       "      <th>parch</th>\n",
       "      <th>fare</th>\n",
       "      <th>embarked</th>\n",
       "      <th>deck</th>\n",
       "    </tr>\n",
       "  </thead>\n",
       "  <tbody>\n",
       "    <tr>\n",
       "      <th>0</th>\n",
       "      <td>0</td>\n",
       "      <td>3</td>\n",
       "      <td>male</td>\n",
       "      <td>22.0</td>\n",
       "      <td>1</td>\n",
       "      <td>0</td>\n",
       "      <td>7.2500</td>\n",
       "      <td>S</td>\n",
       "      <td>NaN</td>\n",
       "    </tr>\n",
       "    <tr>\n",
       "      <th>1</th>\n",
       "      <td>1</td>\n",
       "      <td>1</td>\n",
       "      <td>female</td>\n",
       "      <td>38.0</td>\n",
       "      <td>1</td>\n",
       "      <td>0</td>\n",
       "      <td>71.2833</td>\n",
       "      <td>C</td>\n",
       "      <td>C</td>\n",
       "    </tr>\n",
       "    <tr>\n",
       "      <th>2</th>\n",
       "      <td>1</td>\n",
       "      <td>3</td>\n",
       "      <td>female</td>\n",
       "      <td>26.0</td>\n",
       "      <td>0</td>\n",
       "      <td>0</td>\n",
       "      <td>7.9250</td>\n",
       "      <td>S</td>\n",
       "      <td>NaN</td>\n",
       "    </tr>\n",
       "    <tr>\n",
       "      <th>3</th>\n",
       "      <td>1</td>\n",
       "      <td>1</td>\n",
       "      <td>female</td>\n",
       "      <td>35.0</td>\n",
       "      <td>1</td>\n",
       "      <td>0</td>\n",
       "      <td>53.1000</td>\n",
       "      <td>S</td>\n",
       "      <td>C</td>\n",
       "    </tr>\n",
       "    <tr>\n",
       "      <th>4</th>\n",
       "      <td>0</td>\n",
       "      <td>3</td>\n",
       "      <td>male</td>\n",
       "      <td>35.0</td>\n",
       "      <td>0</td>\n",
       "      <td>0</td>\n",
       "      <td>8.0500</td>\n",
       "      <td>S</td>\n",
       "      <td>NaN</td>\n",
       "    </tr>\n",
       "    <tr>\n",
       "      <th>...</th>\n",
       "      <td>...</td>\n",
       "      <td>...</td>\n",
       "      <td>...</td>\n",
       "      <td>...</td>\n",
       "      <td>...</td>\n",
       "      <td>...</td>\n",
       "      <td>...</td>\n",
       "      <td>...</td>\n",
       "      <td>...</td>\n",
       "    </tr>\n",
       "    <tr>\n",
       "      <th>886</th>\n",
       "      <td>0</td>\n",
       "      <td>2</td>\n",
       "      <td>male</td>\n",
       "      <td>27.0</td>\n",
       "      <td>0</td>\n",
       "      <td>0</td>\n",
       "      <td>13.0000</td>\n",
       "      <td>S</td>\n",
       "      <td>NaN</td>\n",
       "    </tr>\n",
       "    <tr>\n",
       "      <th>887</th>\n",
       "      <td>1</td>\n",
       "      <td>1</td>\n",
       "      <td>female</td>\n",
       "      <td>19.0</td>\n",
       "      <td>0</td>\n",
       "      <td>0</td>\n",
       "      <td>30.0000</td>\n",
       "      <td>S</td>\n",
       "      <td>B</td>\n",
       "    </tr>\n",
       "    <tr>\n",
       "      <th>888</th>\n",
       "      <td>0</td>\n",
       "      <td>3</td>\n",
       "      <td>female</td>\n",
       "      <td>NaN</td>\n",
       "      <td>1</td>\n",
       "      <td>2</td>\n",
       "      <td>23.4500</td>\n",
       "      <td>S</td>\n",
       "      <td>NaN</td>\n",
       "    </tr>\n",
       "    <tr>\n",
       "      <th>889</th>\n",
       "      <td>1</td>\n",
       "      <td>1</td>\n",
       "      <td>male</td>\n",
       "      <td>26.0</td>\n",
       "      <td>0</td>\n",
       "      <td>0</td>\n",
       "      <td>30.0000</td>\n",
       "      <td>C</td>\n",
       "      <td>C</td>\n",
       "    </tr>\n",
       "    <tr>\n",
       "      <th>890</th>\n",
       "      <td>0</td>\n",
       "      <td>3</td>\n",
       "      <td>male</td>\n",
       "      <td>32.0</td>\n",
       "      <td>0</td>\n",
       "      <td>0</td>\n",
       "      <td>7.7500</td>\n",
       "      <td>Q</td>\n",
       "      <td>NaN</td>\n",
       "    </tr>\n",
       "  </tbody>\n",
       "</table>\n",
       "<p>891 rows × 9 columns</p>\n",
       "</div>"
      ],
      "text/plain": [
       "     survived  pclass     sex   age  sibsp  parch     fare embarked deck\n",
       "0           0       3    male  22.0      1      0   7.2500        S  NaN\n",
       "1           1       1  female  38.0      1      0  71.2833        C    C\n",
       "2           1       3  female  26.0      0      0   7.9250        S  NaN\n",
       "3           1       1  female  35.0      1      0  53.1000        S    C\n",
       "4           0       3    male  35.0      0      0   8.0500        S  NaN\n",
       "..        ...     ...     ...   ...    ...    ...      ...      ...  ...\n",
       "886         0       2    male  27.0      0      0  13.0000        S  NaN\n",
       "887         1       1  female  19.0      0      0  30.0000        S    B\n",
       "888         0       3  female   NaN      1      2  23.4500        S  NaN\n",
       "889         1       1    male  26.0      0      0  30.0000        C    C\n",
       "890         0       3    male  32.0      0      0   7.7500        Q  NaN\n",
       "\n",
       "[891 rows x 9 columns]"
      ]
     },
     "execution_count": 50,
     "metadata": {},
     "output_type": "execute_result"
    }
   ],
   "source": [
    "titanic"
   ]
  },
  {
   "cell_type": "code",
   "execution_count": 52,
   "id": "9c769372-bf3b-47b6-9a82-a3165026109c",
   "metadata": {},
   "outputs": [],
   "source": [
    "age = titanic.age"
   ]
  },
  {
   "cell_type": "code",
   "execution_count": 54,
   "id": "73410a16-0501-4bc9-88b9-04a927e7f0d1",
   "metadata": {},
   "outputs": [
    {
     "data": {
      "text/plain": [
       "0      22.0\n",
       "1      38.0\n",
       "2      26.0\n",
       "3      35.0\n",
       "4      35.0\n",
       "       ... \n",
       "886    27.0\n",
       "887    19.0\n",
       "888     NaN\n",
       "889    26.0\n",
       "890    32.0\n",
       "Name: age, Length: 891, dtype: float64"
      ]
     },
     "execution_count": 54,
     "metadata": {},
     "output_type": "execute_result"
    }
   ],
   "source": [
    "age"
   ]
  },
  {
   "cell_type": "code",
   "execution_count": 56,
   "id": "f01db314-37b0-42c3-886e-79020b41808f",
   "metadata": {},
   "outputs": [
    {
     "data": {
      "text/plain": [
       "0    22.0\n",
       "1    38.0\n",
       "2    26.0\n",
       "3    35.0\n",
       "4    35.0\n",
       "Name: age, dtype: float64"
      ]
     },
     "execution_count": 56,
     "metadata": {},
     "output_type": "execute_result"
    }
   ],
   "source": [
    "age.head()"
   ]
  },
  {
   "cell_type": "code",
   "execution_count": 58,
   "id": "e067aa87-0fd0-4e94-b91c-b6a873eeed65",
   "metadata": {},
   "outputs": [
    {
     "name": "stderr",
     "output_type": "stream",
     "text": [
      "/var/folders/1b/d24k1cl162s2drg4n6yln3500000gn/T/ipykernel_82058/1477452854.py:1: SettingWithCopyWarning: \n",
      "A value is trying to be set on a copy of a slice from a DataFrame\n",
      "\n",
      "See the caveats in the documentation: https://pandas.pydata.org/pandas-docs/stable/user_guide/indexing.html#returning-a-view-versus-a-copy\n",
      "  age.iloc[1] = 30\n"
     ]
    }
   ],
   "source": [
    "age.iloc[1] = 30"
   ]
  },
  {
   "cell_type": "code",
   "execution_count": 60,
   "id": "9bbce2f5-fd7a-4d17-a01e-93de74f8f361",
   "metadata": {},
   "outputs": [
    {
     "data": {
      "text/html": [
       "<div>\n",
       "<style scoped>\n",
       "    .dataframe tbody tr th:only-of-type {\n",
       "        vertical-align: middle;\n",
       "    }\n",
       "\n",
       "    .dataframe tbody tr th {\n",
       "        vertical-align: top;\n",
       "    }\n",
       "\n",
       "    .dataframe thead th {\n",
       "        text-align: right;\n",
       "    }\n",
       "</style>\n",
       "<table border=\"1\" class=\"dataframe\">\n",
       "  <thead>\n",
       "    <tr style=\"text-align: right;\">\n",
       "      <th></th>\n",
       "      <th>survived</th>\n",
       "      <th>pclass</th>\n",
       "      <th>sex</th>\n",
       "      <th>age</th>\n",
       "      <th>sibsp</th>\n",
       "      <th>parch</th>\n",
       "      <th>fare</th>\n",
       "      <th>embarked</th>\n",
       "      <th>deck</th>\n",
       "    </tr>\n",
       "  </thead>\n",
       "  <tbody>\n",
       "    <tr>\n",
       "      <th>0</th>\n",
       "      <td>0</td>\n",
       "      <td>3</td>\n",
       "      <td>male</td>\n",
       "      <td>22.0</td>\n",
       "      <td>1</td>\n",
       "      <td>0</td>\n",
       "      <td>7.2500</td>\n",
       "      <td>S</td>\n",
       "      <td>NaN</td>\n",
       "    </tr>\n",
       "    <tr>\n",
       "      <th>1</th>\n",
       "      <td>1</td>\n",
       "      <td>1</td>\n",
       "      <td>female</td>\n",
       "      <td>30.0</td>\n",
       "      <td>1</td>\n",
       "      <td>0</td>\n",
       "      <td>71.2833</td>\n",
       "      <td>C</td>\n",
       "      <td>C</td>\n",
       "    </tr>\n",
       "    <tr>\n",
       "      <th>2</th>\n",
       "      <td>1</td>\n",
       "      <td>3</td>\n",
       "      <td>female</td>\n",
       "      <td>26.0</td>\n",
       "      <td>0</td>\n",
       "      <td>0</td>\n",
       "      <td>7.9250</td>\n",
       "      <td>S</td>\n",
       "      <td>NaN</td>\n",
       "    </tr>\n",
       "    <tr>\n",
       "      <th>3</th>\n",
       "      <td>1</td>\n",
       "      <td>1</td>\n",
       "      <td>female</td>\n",
       "      <td>35.0</td>\n",
       "      <td>1</td>\n",
       "      <td>0</td>\n",
       "      <td>53.1000</td>\n",
       "      <td>S</td>\n",
       "      <td>C</td>\n",
       "    </tr>\n",
       "    <tr>\n",
       "      <th>4</th>\n",
       "      <td>0</td>\n",
       "      <td>3</td>\n",
       "      <td>male</td>\n",
       "      <td>35.0</td>\n",
       "      <td>0</td>\n",
       "      <td>0</td>\n",
       "      <td>8.0500</td>\n",
       "      <td>S</td>\n",
       "      <td>NaN</td>\n",
       "    </tr>\n",
       "    <tr>\n",
       "      <th>...</th>\n",
       "      <td>...</td>\n",
       "      <td>...</td>\n",
       "      <td>...</td>\n",
       "      <td>...</td>\n",
       "      <td>...</td>\n",
       "      <td>...</td>\n",
       "      <td>...</td>\n",
       "      <td>...</td>\n",
       "      <td>...</td>\n",
       "    </tr>\n",
       "    <tr>\n",
       "      <th>886</th>\n",
       "      <td>0</td>\n",
       "      <td>2</td>\n",
       "      <td>male</td>\n",
       "      <td>27.0</td>\n",
       "      <td>0</td>\n",
       "      <td>0</td>\n",
       "      <td>13.0000</td>\n",
       "      <td>S</td>\n",
       "      <td>NaN</td>\n",
       "    </tr>\n",
       "    <tr>\n",
       "      <th>887</th>\n",
       "      <td>1</td>\n",
       "      <td>1</td>\n",
       "      <td>female</td>\n",
       "      <td>19.0</td>\n",
       "      <td>0</td>\n",
       "      <td>0</td>\n",
       "      <td>30.0000</td>\n",
       "      <td>S</td>\n",
       "      <td>B</td>\n",
       "    </tr>\n",
       "    <tr>\n",
       "      <th>888</th>\n",
       "      <td>0</td>\n",
       "      <td>3</td>\n",
       "      <td>female</td>\n",
       "      <td>NaN</td>\n",
       "      <td>1</td>\n",
       "      <td>2</td>\n",
       "      <td>23.4500</td>\n",
       "      <td>S</td>\n",
       "      <td>NaN</td>\n",
       "    </tr>\n",
       "    <tr>\n",
       "      <th>889</th>\n",
       "      <td>1</td>\n",
       "      <td>1</td>\n",
       "      <td>male</td>\n",
       "      <td>26.0</td>\n",
       "      <td>0</td>\n",
       "      <td>0</td>\n",
       "      <td>30.0000</td>\n",
       "      <td>C</td>\n",
       "      <td>C</td>\n",
       "    </tr>\n",
       "    <tr>\n",
       "      <th>890</th>\n",
       "      <td>0</td>\n",
       "      <td>3</td>\n",
       "      <td>male</td>\n",
       "      <td>32.0</td>\n",
       "      <td>0</td>\n",
       "      <td>0</td>\n",
       "      <td>7.7500</td>\n",
       "      <td>Q</td>\n",
       "      <td>NaN</td>\n",
       "    </tr>\n",
       "  </tbody>\n",
       "</table>\n",
       "<p>891 rows × 9 columns</p>\n",
       "</div>"
      ],
      "text/plain": [
       "     survived  pclass     sex   age  sibsp  parch     fare embarked deck\n",
       "0           0       3    male  22.0      1      0   7.2500        S  NaN\n",
       "1           1       1  female  30.0      1      0  71.2833        C    C\n",
       "2           1       3  female  26.0      0      0   7.9250        S  NaN\n",
       "3           1       1  female  35.0      1      0  53.1000        S    C\n",
       "4           0       3    male  35.0      0      0   8.0500        S  NaN\n",
       "..        ...     ...     ...   ...    ...    ...      ...      ...  ...\n",
       "886         0       2    male  27.0      0      0  13.0000        S  NaN\n",
       "887         1       1  female  19.0      0      0  30.0000        S    B\n",
       "888         0       3  female   NaN      1      2  23.4500        S  NaN\n",
       "889         1       1    male  26.0      0      0  30.0000        C    C\n",
       "890         0       3    male  32.0      0      0   7.7500        Q  NaN\n",
       "\n",
       "[891 rows x 9 columns]"
      ]
     },
     "execution_count": 60,
     "metadata": {},
     "output_type": "execute_result"
    }
   ],
   "source": [
    "titanic # 데이터 프레임의 값 까지 바뀐 것을 확인할 수 있음 이것에 대해선 나중에 더 깊게 공부"
   ]
  },
  {
   "cell_type": "code",
   "execution_count": null,
   "id": "66758255-8ddb-41da-a77c-b44cd611d6f4",
   "metadata": {},
   "outputs": [],
   "source": []
  }
 ],
 "metadata": {
  "kernelspec": {
   "display_name": "Python [conda env:base] *",
   "language": "python",
   "name": "conda-base-py"
  },
  "language_info": {
   "codemirror_mode": {
    "name": "ipython",
    "version": 3
   },
   "file_extension": ".py",
   "mimetype": "text/x-python",
   "name": "python",
   "nbconvert_exporter": "python",
   "pygments_lexer": "ipython3",
   "version": "3.12.7"
  }
 },
 "nbformat": 4,
 "nbformat_minor": 5
}
